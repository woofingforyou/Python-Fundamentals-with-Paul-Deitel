{
 "cells": [
  {
   "cell_type": "markdown",
   "id": "7cbeef9a-e2c4-4478-a46e-697f78f9f16c",
   "metadata": {},
   "source": [
    "# 6.2.1 Self Check"
   ]
  },
  {
   "cell_type": "markdown",
   "id": "20eade99-fc07-425a-bdc7-1b9732c0c4da",
   "metadata": {},
   "source": [
    "### 3. (IPython Session)\n",
    "#### Create a dictionary named `states` that maps three state abbreviations to their state names, then display the dictionary.\n"
   ]
  },
  {
   "cell_type": "code",
   "execution_count": 2,
   "id": "53bd77c0-f756-41fc-832c-a963353f7416",
   "metadata": {},
   "outputs": [
    {
     "name": "stdout",
     "output_type": "stream",
     "text": [
      "{'NY': 'New York', 'CA': 'California', 'TX': 'Texas'}\n"
     ]
    }
   ],
   "source": [
    "states = {\n",
    "    'NY': 'New York',\n",
    "    'CA': 'California',\n",
    "    'TX': 'Texas'\n",
    "}\n",
    "print(states)\n"
   ]
  },
  {
   "cell_type": "markdown",
   "id": "96d41379-c327-4574-99e0-205bb79ebe16",
   "metadata": {},
   "source": [
    "# 6.2.3 Self Check\n"
   ]
  },
  {
   "cell_type": "markdown",
   "id": "049d5ac6-2967-4610-8d42-ef0c89b2d4c7",
   "metadata": {},
   "source": [
    "### 3. (IPython Session)\n",
    "#### String dictionary keys are case sensitive. Confirm this by using the following dictionary and assigning 10 to the key `'x'`—doing so adds a new key–value pair rather than correcting the value for the key `'X'`:\n"
   ]
  },
  {
   "cell_type": "code",
   "execution_count": 3,
   "id": "d9822fc7-38f0-4910-94f0-a8ba47f1ba43",
   "metadata": {},
   "outputs": [],
   "source": [
    "roman_numerals = {'I': 1, 'II': 2, 'III': 3, 'V': 5, 'X': 100}\n"
   ]
  },
  {
   "cell_type": "code",
   "execution_count": 5,
   "id": "dd157194-b618-49ef-89d0-7bbb81ebfed1",
   "metadata": {},
   "outputs": [],
   "source": [
    "roman_numerals['x'] = 10"
   ]
  },
  {
   "cell_type": "code",
   "execution_count": 6,
   "id": "1eabd2b1-d885-49b6-993d-ef3d28142b54",
   "metadata": {},
   "outputs": [
    {
     "data": {
      "text/plain": [
       "{'I': 1, 'II': 2, 'III': 3, 'V': 5, 'X': 100, 'x': 10}"
      ]
     },
     "execution_count": 6,
     "metadata": {},
     "output_type": "execute_result"
    }
   ],
   "source": [
    "roman_numerals"
   ]
  }
 ],
 "metadata": {
  "kernelspec": {
   "display_name": "Python 3 (ipykernel)",
   "language": "python",
   "name": "python3"
  },
  "language_info": {
   "codemirror_mode": {
    "name": "ipython",
    "version": 3
   },
   "file_extension": ".py",
   "mimetype": "text/x-python",
   "name": "python",
   "nbconvert_exporter": "python",
   "pygments_lexer": "ipython3",
   "version": "3.12.7"
  }
 },
 "nbformat": 4,
 "nbformat_minor": 5
}
