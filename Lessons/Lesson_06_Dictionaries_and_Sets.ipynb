{
 "cells": [
  {
   "cell_type": "markdown",
   "id": "7cbeef9a-e2c4-4478-a46e-697f78f9f16c",
   "metadata": {},
   "source": [
    "# 6.2.1 Self Check"
   ]
  },
  {
   "cell_type": "markdown",
   "id": "20eade99-fc07-425a-bdc7-1b9732c0c4da",
   "metadata": {},
   "source": [
    "### 3. (IPython Session)\n",
    "#### Create a dictionary named `states` that maps three state abbreviations to their state names, then display the dictionary.\n"
   ]
  },
  {
   "cell_type": "code",
   "execution_count": 1,
   "id": "53bd77c0-f756-41fc-832c-a963353f7416",
   "metadata": {},
   "outputs": [
    {
     "name": "stdout",
     "output_type": "stream",
     "text": [
      "{'NY': 'New York', 'CA': 'California', 'TX': 'Texas'}\n"
     ]
    }
   ],
   "source": [
    "states = {\n",
    "    'NY': 'New York',\n",
    "    'CA': 'California',\n",
    "    'TX': 'Texas'\n",
    "}\n",
    "print(states)\n"
   ]
  },
  {
   "cell_type": "markdown",
   "id": "96d41379-c327-4574-99e0-205bb79ebe16",
   "metadata": {},
   "source": [
    "# 6.2.3 Self Check\n"
   ]
  },
  {
   "cell_type": "markdown",
   "id": "049d5ac6-2967-4610-8d42-ef0c89b2d4c7",
   "metadata": {},
   "source": [
    "### 3. (IPython Session)\n",
    "#### String dictionary keys are case sensitive. Confirm this by using the following dictionary and assigning 10 to the key `'x'`—doing so adds a new key–value pair rather than correcting the value for the key `'X'`:\n"
   ]
  },
  {
   "cell_type": "code",
   "execution_count": 2,
   "id": "d9822fc7-38f0-4910-94f0-a8ba47f1ba43",
   "metadata": {},
   "outputs": [],
   "source": [
    "roman_numerals = {'I': 1, 'II': 2, 'III': 3, 'V': 5, 'X': 100}\n"
   ]
  },
  {
   "cell_type": "code",
   "execution_count": 3,
   "id": "dd157194-b618-49ef-89d0-7bbb81ebfed1",
   "metadata": {},
   "outputs": [],
   "source": [
    "roman_numerals['x'] = 10"
   ]
  },
  {
   "cell_type": "code",
   "execution_count": 4,
   "id": "1eabd2b1-d885-49b6-993d-ef3d28142b54",
   "metadata": {},
   "outputs": [
    {
     "data": {
      "text/plain": [
       "{'I': 1, 'II': 2, 'III': 3, 'V': 5, 'X': 100, 'x': 10}"
      ]
     },
     "execution_count": 4,
     "metadata": {},
     "output_type": "execute_result"
    }
   ],
   "source": [
    "roman_numerals"
   ]
  },
  {
   "cell_type": "markdown",
   "id": "81672867-26d0-4550-91f7-52b847b810c4",
   "metadata": {},
   "source": [
    "# 6.2.4 Self Check"
   ]
  },
  {
   "cell_type": "markdown",
   "id": "04822e26-97c3-47f7-90b5-76fa7377504e",
   "metadata": {},
   "source": [
    "### 3. (IPython Session)\n",
    "#### For the following dictionary, create lists of its keys, values and items and show the contents of those lists.\n"
   ]
  },
  {
   "cell_type": "code",
   "execution_count": 5,
   "id": "c9039222-d31f-4067-97ff-6b300b4eed6e",
   "metadata": {},
   "outputs": [],
   "source": [
    "roman_numerals = {'I': 1, 'II': 2, 'III': 3, 'V': 5}"
   ]
  },
  {
   "cell_type": "code",
   "execution_count": 6,
   "id": "f581c113-6051-4718-bb18-76075cb6e859",
   "metadata": {},
   "outputs": [
    {
     "data": {
      "text/plain": [
       "['I', 'II', 'III', 'V']"
      ]
     },
     "execution_count": 6,
     "metadata": {},
     "output_type": "execute_result"
    }
   ],
   "source": [
    "list(roman_numerals.keys())"
   ]
  },
  {
   "cell_type": "code",
   "execution_count": 7,
   "id": "5b533966-1ae0-40d2-b222-666a8822cb7c",
   "metadata": {},
   "outputs": [
    {
     "data": {
      "text/plain": [
       "[1, 2, 3, 5]"
      ]
     },
     "execution_count": 7,
     "metadata": {},
     "output_type": "execute_result"
    }
   ],
   "source": [
    "list(roman_numerals.values())"
   ]
  },
  {
   "cell_type": "code",
   "execution_count": 8,
   "id": "240a7cd0-a443-48f6-8a83-7ce25e67d40c",
   "metadata": {},
   "outputs": [
    {
     "data": {
      "text/plain": [
       "[('I', 1), ('II', 2), ('III', 3), ('V', 5)]"
      ]
     },
     "execution_count": 8,
     "metadata": {},
     "output_type": "execute_result"
    }
   ],
   "source": [
    "list(roman_numerals.items())"
   ]
  },
  {
   "cell_type": "markdown",
   "id": "521a3456-1d4b-4b4e-b7d3-24081479180f",
   "metadata": {},
   "source": [
    "# 6.2.7 Self Check\n"
   ]
  },
  {
   "cell_type": "markdown",
   "id": "f7a2a7ff-a6cf-490a-8cda-7f1d96ff1081",
   "metadata": {},
   "source": [
    "\n",
    "### 2. (IPython Session)\n",
    "#### Use a comprehension to create a list of 50 random integers in the range 1–5. Summarize them with a `Counter`. Display the results in two-column format.\n"
   ]
  },
  {
   "cell_type": "code",
   "execution_count": 9,
   "id": "a4ad679e-411c-440b-9218-8d76f64ab20a",
   "metadata": {},
   "outputs": [],
   "source": [
    "from collections import Counter\n",
    "import random"
   ]
  },
  {
   "cell_type": "code",
   "execution_count": 10,
   "id": "f7c06b10-9b22-4d5f-a775-9126201d0df0",
   "metadata": {},
   "outputs": [],
   "source": [
    "rand_numbers = list([random.randrange(1,6) for i in range(50)])"
   ]
  },
  {
   "cell_type": "code",
   "execution_count": 11,
   "id": "c5b78489-fab3-4096-935c-fc1bf276473c",
   "metadata": {},
   "outputs": [],
   "source": [
    "counter = Counter(rand_numbers)"
   ]
  },
  {
   "cell_type": "code",
   "execution_count": 12,
   "id": "84a6713f-4942-40b9-ad7a-a7d5a8f02a5c",
   "metadata": {},
   "outputs": [
    {
     "name": "stdout",
     "output_type": "stream",
     "text": [
      "Value   Count\n",
      "1       17\n",
      "2       8\n",
      "3       10\n",
      "4       8\n",
      "5       7\n"
     ]
    }
   ],
   "source": [
    "print(f'{'Value':<8}Count')\n",
    "for value, count in sorted(counter.items()):\n",
    "    print(f'{value:<8}{count}')"
   ]
  },
  {
   "cell_type": "markdown",
   "id": "ec5e8de7-12f5-4f7b-ab2b-dde6f74da8fc",
   "metadata": {},
   "source": [
    "# 6.2.9 Self Check\n"
   ]
  },
  {
   "cell_type": "markdown",
   "id": "fcb5bf5f-a091-43e4-8a5b-4d23b286c1a4",
   "metadata": {},
   "source": [
    "### 1. (IPython Session)\n",
    "#### Use a dictionary comprehension to create a dictionary of the numbers 1–5 and their cubes.\n"
   ]
  },
  {
   "cell_type": "code",
   "execution_count": 13,
   "id": "daebbdfb-9cdf-47c8-b3e3-8f29e31b67d3",
   "metadata": {},
   "outputs": [],
   "source": [
    "num_cubes = {i: i**3 for i in range(1,6)}"
   ]
  },
  {
   "cell_type": "code",
   "execution_count": 14,
   "id": "2a2b1c71-1b71-498f-a4b7-4f7c5720cc37",
   "metadata": {},
   "outputs": [
    {
     "data": {
      "text/plain": [
       "{1: 1, 2: 8, 3: 27, 4: 64, 5: 125}"
      ]
     },
     "execution_count": 14,
     "metadata": {},
     "output_type": "execute_result"
    }
   ],
   "source": [
    "num_cubes"
   ]
  },
  {
   "cell_type": "markdown",
   "id": "ffc4c348-abdf-4015-a6c8-11ef527748fe",
   "metadata": {},
   "source": [
    "# 6.3 Self Check\n"
   ]
  },
  {
   "cell_type": "markdown",
   "id": "e2902b4a-2fd5-40e6-90a9-c62bbdc5f07e",
   "metadata": {},
   "source": [
    "### 3. (IPython Session)\n",
    "#### Assign the following string to variable `text`, then split it into tokens with string method `split` and create a `set` from the results. Display the unique words in sorted order.\n",
    "\n",
    "#### 'to be or not to be that is the question'\n"
   ]
  },
  {
   "cell_type": "code",
   "execution_count": 28,
   "id": "4b1e8a16-f564-45bc-ac4f-2da635ccb8e0",
   "metadata": {},
   "outputs": [],
   "source": [
    "text = 'to be or not to be that is the question'"
   ]
  },
  {
   "cell_type": "code",
   "execution_count": 30,
   "id": "a6f0fdfd-a732-4559-8223-9cb1691e4be6",
   "metadata": {},
   "outputs": [
    {
     "data": {
      "text/plain": [
       "['be', 'is', 'not', 'or', 'question', 'that', 'the', 'to']"
      ]
     },
     "execution_count": 30,
     "metadata": {},
     "output_type": "execute_result"
    }
   ],
   "source": [
    "sorted(set(text.split()))"
   ]
  },
  {
   "cell_type": "markdown",
   "id": "627e9269-d8c3-46cf-af1a-def68b1d438a",
   "metadata": {},
   "source": [
    "# 6.3.1 Self Check\n"
   ]
  },
  {
   "cell_type": "markdown",
   "id": "e9b6a893-ffc3-48d4-831c-ee59e4d359df",
   "metadata": {},
   "source": [
    "### 3. (IPython Session)\n",
    "#### Use `sets` and `issuperset` to determine whether the characters of the string `'abc def ghi jkl mno'` are a superset of the characters in the string `'hi mom'`.\n"
   ]
  },
  {
   "cell_type": "code",
   "execution_count": 32,
   "id": "6cf71e44-c1e5-4c48-bad0-be6ddfd94e65",
   "metadata": {},
   "outputs": [
    {
     "data": {
      "text/plain": [
       "True"
      ]
     },
     "execution_count": 32,
     "metadata": {},
     "output_type": "execute_result"
    }
   ],
   "source": [
    "set('abc def ghi jkl mno').issuperset(set('hi mom'))"
   ]
  },
  {
   "cell_type": "markdown",
   "id": "b2cc61ee-b288-4953-8cd3-b4a2ffdfbdb5",
   "metadata": {},
   "source": [
    "# 6.3.2 Self Check\n"
   ]
  },
  {
   "cell_type": "markdown",
   "id": "00f6b797-e87e-418d-89c1-1adfe8a990be",
   "metadata": {},
   "source": [
    "### 2. (IPython Session)\n",
    "#### Given the sets `{10, 20, 30}` and `{5, 10, 15, 20}`, use the mathematical set operators to produce the following results:\n",
    "#### a. {30}\n",
    "#### b. {5, 15, 30}\n",
    "#### c. {5, 10, 15, 20, 30}\n",
    "#### d. {10, 20}\n"
   ]
  },
  {
   "cell_type": "code",
   "execution_count": 33,
   "id": "4ea96d2a-5968-45c4-837a-9fb91bd80352",
   "metadata": {},
   "outputs": [],
   "source": [
    "set1 = {10, 20, 30}\n",
    "set2 = {5, 10, 15, 20}\n"
   ]
  },
  {
   "cell_type": "code",
   "execution_count": 34,
   "id": "48284fcf-0b44-447c-aee1-0fbeb61e0471",
   "metadata": {},
   "outputs": [
    {
     "data": {
      "text/plain": [
       "{30}"
      ]
     },
     "execution_count": 34,
     "metadata": {},
     "output_type": "execute_result"
    }
   ],
   "source": [
    "set1 - set2"
   ]
  },
  {
   "cell_type": "code",
   "execution_count": 37,
   "id": "f80ebdea-347e-4c3b-b78b-601a75ec4733",
   "metadata": {},
   "outputs": [
    {
     "data": {
      "text/plain": [
       "{5, 15, 30}"
      ]
     },
     "execution_count": 37,
     "metadata": {},
     "output_type": "execute_result"
    }
   ],
   "source": [
    "set1 ^ set2"
   ]
  },
  {
   "cell_type": "code",
   "execution_count": 36,
   "id": "0e532f48-14a8-43a6-8e08-fec549d2e7f0",
   "metadata": {},
   "outputs": [
    {
     "data": {
      "text/plain": [
       "{10, 20}"
      ]
     },
     "execution_count": 36,
     "metadata": {},
     "output_type": "execute_result"
    }
   ],
   "source": [
    "set1 & set2"
   ]
  },
  {
   "cell_type": "code",
   "execution_count": 35,
   "id": "326fb1ab-f1d7-42c3-ab58-b9a4db12dacc",
   "metadata": {},
   "outputs": [
    {
     "data": {
      "text/plain": [
       "{5, 10, 15, 20, 30}"
      ]
     },
     "execution_count": 35,
     "metadata": {},
     "output_type": "execute_result"
    }
   ],
   "source": [
    "set1 | set2"
   ]
  },
  {
   "cell_type": "code",
   "execution_count": null,
   "id": "35b2d822-ef27-4e06-b623-e22adc759a09",
   "metadata": {},
   "outputs": [],
   "source": []
  }
 ],
 "metadata": {
  "kernelspec": {
   "display_name": "Python 3 (ipykernel)",
   "language": "python",
   "name": "python3"
  },
  "language_info": {
   "codemirror_mode": {
    "name": "ipython",
    "version": 3
   },
   "file_extension": ".py",
   "mimetype": "text/x-python",
   "name": "python",
   "nbconvert_exporter": "python",
   "pygments_lexer": "ipython3",
   "version": "3.12.7"
  }
 },
 "nbformat": 4,
 "nbformat_minor": 5
}
