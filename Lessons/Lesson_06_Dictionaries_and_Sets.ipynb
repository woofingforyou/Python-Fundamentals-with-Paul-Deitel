{
 "cells": [
  {
   "cell_type": "markdown",
   "id": "7cbeef9a-e2c4-4478-a46e-697f78f9f16c",
   "metadata": {},
   "source": [
    "# 6.2.1 Self Check"
   ]
  },
  {
   "cell_type": "markdown",
   "id": "20eade99-fc07-425a-bdc7-1b9732c0c4da",
   "metadata": {},
   "source": [
    "### 3. (IPython Session)\n",
    "#### Create a dictionary named `states` that maps three state abbreviations to their state names, then display the dictionary.\n"
   ]
  },
  {
   "cell_type": "code",
   "execution_count": 2,
   "id": "53bd77c0-f756-41fc-832c-a963353f7416",
   "metadata": {},
   "outputs": [
    {
     "name": "stdout",
     "output_type": "stream",
     "text": [
      "{'NY': 'New York', 'CA': 'California', 'TX': 'Texas'}\n"
     ]
    }
   ],
   "source": [
    "states = {\n",
    "    'NY': 'New York',\n",
    "    'CA': 'California',\n",
    "    'TX': 'Texas'\n",
    "}\n",
    "print(states)\n"
   ]
  },
  {
   "cell_type": "markdown",
   "id": "96d41379-c327-4574-99e0-205bb79ebe16",
   "metadata": {},
   "source": [
    "# 6.2.3 Self Check\n"
   ]
  },
  {
   "cell_type": "markdown",
   "id": "049d5ac6-2967-4610-8d42-ef0c89b2d4c7",
   "metadata": {},
   "source": [
    "### 3. (IPython Session)\n",
    "#### String dictionary keys are case sensitive. Confirm this by using the following dictionary and assigning 10 to the key `'x'`—doing so adds a new key–value pair rather than correcting the value for the key `'X'`:\n"
   ]
  },
  {
   "cell_type": "code",
   "execution_count": 3,
   "id": "d9822fc7-38f0-4910-94f0-a8ba47f1ba43",
   "metadata": {},
   "outputs": [],
   "source": [
    "roman_numerals = {'I': 1, 'II': 2, 'III': 3, 'V': 5, 'X': 100}\n"
   ]
  },
  {
   "cell_type": "code",
   "execution_count": 5,
   "id": "dd157194-b618-49ef-89d0-7bbb81ebfed1",
   "metadata": {},
   "outputs": [],
   "source": [
    "roman_numerals['x'] = 10"
   ]
  },
  {
   "cell_type": "code",
   "execution_count": 6,
   "id": "1eabd2b1-d885-49b6-993d-ef3d28142b54",
   "metadata": {},
   "outputs": [
    {
     "data": {
      "text/plain": [
       "{'I': 1, 'II': 2, 'III': 3, 'V': 5, 'X': 100, 'x': 10}"
      ]
     },
     "execution_count": 6,
     "metadata": {},
     "output_type": "execute_result"
    }
   ],
   "source": [
    "roman_numerals"
   ]
  },
  {
   "cell_type": "markdown",
   "id": "81672867-26d0-4550-91f7-52b847b810c4",
   "metadata": {},
   "source": [
    "# 6.2.4 Self Check"
   ]
  },
  {
   "cell_type": "markdown",
   "id": "04822e26-97c3-47f7-90b5-76fa7377504e",
   "metadata": {},
   "source": [
    "### 3. (IPython Session)\n",
    "#### For the following dictionary, create lists of its keys, values and items and show the contents of those lists.\n"
   ]
  },
  {
   "cell_type": "code",
   "execution_count": 1,
   "id": "c9039222-d31f-4067-97ff-6b300b4eed6e",
   "metadata": {},
   "outputs": [],
   "source": [
    "roman_numerals = {'I': 1, 'II': 2, 'III': 3, 'V': 5}"
   ]
  },
  {
   "cell_type": "code",
   "execution_count": 2,
   "id": "f581c113-6051-4718-bb18-76075cb6e859",
   "metadata": {},
   "outputs": [
    {
     "data": {
      "text/plain": [
       "['I', 'II', 'III', 'V']"
      ]
     },
     "execution_count": 2,
     "metadata": {},
     "output_type": "execute_result"
    }
   ],
   "source": [
    "list(roman_numerals.keys())"
   ]
  },
  {
   "cell_type": "code",
   "execution_count": 3,
   "id": "5b533966-1ae0-40d2-b222-666a8822cb7c",
   "metadata": {},
   "outputs": [
    {
     "data": {
      "text/plain": [
       "[1, 2, 3, 5]"
      ]
     },
     "execution_count": 3,
     "metadata": {},
     "output_type": "execute_result"
    }
   ],
   "source": [
    "list(roman_numerals.values())"
   ]
  },
  {
   "cell_type": "code",
   "execution_count": 4,
   "id": "240a7cd0-a443-48f6-8a83-7ce25e67d40c",
   "metadata": {},
   "outputs": [
    {
     "data": {
      "text/plain": [
       "[('I', 1), ('II', 2), ('III', 3), ('V', 5)]"
      ]
     },
     "execution_count": 4,
     "metadata": {},
     "output_type": "execute_result"
    }
   ],
   "source": [
    "list(roman_numerals.items())"
   ]
  },
  {
   "cell_type": "markdown",
   "id": "521a3456-1d4b-4b4e-b7d3-24081479180f",
   "metadata": {},
   "source": [
    "# 6.2.7 Self Check\n"
   ]
  },
  {
   "cell_type": "markdown",
   "id": "f7a2a7ff-a6cf-490a-8cda-7f1d96ff1081",
   "metadata": {},
   "source": [
    "\n",
    "### 2. (IPython Session)\n",
    "#### Use a comprehension to create a list of 50 random integers in the range 1–5. Summarize them with a `Counter`. Display the results in two-column format.\n"
   ]
  },
  {
   "cell_type": "code",
   "execution_count": 32,
   "id": "a4ad679e-411c-440b-9218-8d76f64ab20a",
   "metadata": {},
   "outputs": [],
   "source": [
    "from collections import Counter\n",
    "import random"
   ]
  },
  {
   "cell_type": "code",
   "execution_count": 33,
   "id": "f7c06b10-9b22-4d5f-a775-9126201d0df0",
   "metadata": {},
   "outputs": [],
   "source": [
    "rand_numbers = list([random.randrange(1,6) for i in range(50)])"
   ]
  },
  {
   "cell_type": "code",
   "execution_count": 34,
   "id": "c5b78489-fab3-4096-935c-fc1bf276473c",
   "metadata": {},
   "outputs": [],
   "source": [
    "counter = Counter(rand_numbers)"
   ]
  },
  {
   "cell_type": "code",
   "execution_count": 35,
   "id": "84a6713f-4942-40b9-ad7a-a7d5a8f02a5c",
   "metadata": {},
   "outputs": [
    {
     "name": "stdout",
     "output_type": "stream",
     "text": [
      "Value   Count\n",
      "1       11\n",
      "2       15\n",
      "3       7\n",
      "4       9\n",
      "5       8\n"
     ]
    }
   ],
   "source": [
    "print(f'{'Value':<8}Count')\n",
    "for value, count in sorted(counter.items()):\n",
    "    print(f'{value:<8}{count}')"
   ]
  }
 ],
 "metadata": {
  "kernelspec": {
   "display_name": "Python 3 (ipykernel)",
   "language": "python",
   "name": "python3"
  },
  "language_info": {
   "codemirror_mode": {
    "name": "ipython",
    "version": 3
   },
   "file_extension": ".py",
   "mimetype": "text/x-python",
   "name": "python",
   "nbconvert_exporter": "python",
   "pygments_lexer": "ipython3",
   "version": "3.12.7"
  }
 },
 "nbformat": 4,
 "nbformat_minor": 5
}
