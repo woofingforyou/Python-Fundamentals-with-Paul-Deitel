{
 "cells": [
  {
   "cell_type": "markdown",
   "id": "e624b767-7bb9-4ae2-8ac2-738e0937dd42",
   "metadata": {},
   "source": [
    "## 4.4 self check\n",
    "\n"
   ]
  },
  {
   "cell_type": "code",
   "execution_count": 1,
   "id": "3ccca933-1c43-44c1-9adc-e1b0db3fed40",
   "metadata": {},
   "outputs": [],
   "source": [
    "import random"
   ]
  },
  {
   "cell_type": "code",
   "execution_count": 2,
   "id": "7b47a855-4a0c-40d2-86f3-0b89fa6e96d8",
   "metadata": {},
   "outputs": [
    {
     "name": "stdout",
     "output_type": "stream",
     "text": [
      "H H H T H T H T H H T T T T T T T T H T "
     ]
    }
   ],
   "source": [
    "for i in range(1,21):\n",
    "    coinflip = random.randrange(2)\n",
    "    # 0 = Heads, 1 = Tails\n",
    "    if coinflip == 0:\n",
    "        print('H', end=' ')\n",
    "    else:\n",
    "        print('T', end=' ')"
   ]
  },
  {
   "cell_type": "markdown",
   "id": "36cbb864-e67f-49f2-ad34-bb8e1cbb433a",
   "metadata": {},
   "source": [
    "## 4.5 Self Check\n",
    "\n",
    "    (IPython Session) Pack a student tuple with the name 'Sue' and the list [89, 94, 85], display the tuple, then unpack it into variables name and grades, and display their values."
   ]
  },
  {
   "cell_type": "code",
   "execution_count": 5,
   "id": "5ee7926a-7ab8-4bb4-9980-58eef16bcd77",
   "metadata": {},
   "outputs": [
    {
     "name": "stdout",
     "output_type": "stream",
     "text": [
      "('Sue', [89, 94, 85])\n",
      "Sue\n",
      "[89, 94, 85]\n"
     ]
    }
   ],
   "source": [
    "student = ('Sue', [89, 94, 85])\n",
    "print(student)\n",
    "name, grades = student\n",
    "print(name)\n",
    "print(grades)"
   ]
  },
  {
   "cell_type": "markdown",
   "id": "b5724afa-5e8b-461d-832f-40326dec12a6",
   "metadata": {},
   "source": [
    "# 4.11 Self Check\n",
    "\n",
    "    (IPython Session) Create a function named calculate_product that receives an arbitrary argument list and returns the product of all the arguments. Call the function with the arguments 10, 20 and 30 then with the sequence of integers produced by range(1, 6, 2).\n"
   ]
  },
  {
   "cell_type": "code",
   "execution_count": 24,
   "id": "d0f8d5e6-6fac-4021-aec2-ff80e1351cf9",
   "metadata": {},
   "outputs": [
    {
     "data": {
      "text/plain": [
       "15"
      ]
     },
     "execution_count": 24,
     "metadata": {},
     "output_type": "execute_result"
    }
   ],
   "source": [
    "def calculate_product(*args):\n",
    "    result = 1\n",
    "    for arg in args:\n",
    "        result *= arg\n",
    "    return result\n",
    "calculate_product(12,20,30)\n",
    "calculate_product(*range(1, 6, 2))"
   ]
  }
 ],
 "metadata": {
  "kernelspec": {
   "display_name": "Python 3 (ipykernel)",
   "language": "python",
   "name": "python3"
  },
  "language_info": {
   "codemirror_mode": {
    "name": "ipython",
    "version": 3
   },
   "file_extension": ".py",
   "mimetype": "text/x-python",
   "name": "python",
   "nbconvert_exporter": "python",
   "pygments_lexer": "ipython3",
   "version": "3.12.7"
  }
 },
 "nbformat": 4,
 "nbformat_minor": 5
}
