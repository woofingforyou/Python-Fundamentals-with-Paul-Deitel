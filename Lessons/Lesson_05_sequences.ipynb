{
 "cells": [
  {
   "cell_type": "markdown",
   "id": "40f83770-3be4-446a-8c5f-21ca8d2139ac",
   "metadata": {},
   "source": [
    "# 5_2 Self Check"
   ]
  },
  {
   "cell_type": "markdown",
   "id": "977a0377-dec7-499f-8ca6-45ce1c354a2a",
   "metadata": {},
   "source": [
    "### 3. (IPython Session) \n",
    "#### Create a function `cube_list` that cubes each element of a list. Call the function with the list `numbers` containing 1 through 10. Show `numbers` after the call.\n"
   ]
  },
  {
   "cell_type": "code",
   "execution_count": 1,
   "id": "bf8649de-4120-45d5-a065-0b038cf24bc2",
   "metadata": {},
   "outputs": [],
   "source": [
    "numbers = [1, 2, 3, 4, 5, 6, 7, 8, 9, 10]"
   ]
  },
  {
   "cell_type": "code",
   "execution_count": 2,
   "id": "7e4684f5-0acd-4df5-946e-df9b19a64345",
   "metadata": {},
   "outputs": [],
   "source": [
    "def cube_list(num_arr):\n",
    "    for i in range(len(num_arr)):\n",
    "        num_arr[i] **= 3"
   ]
  },
  {
   "cell_type": "code",
   "execution_count": 3,
   "id": "00e262d0-8360-4217-aef8-0e35e583e163",
   "metadata": {},
   "outputs": [
    {
     "name": "stdout",
     "output_type": "stream",
     "text": [
      "[1, 8, 27, 64, 125, 216, 343, 512, 729, 1000]\n"
     ]
    }
   ],
   "source": [
    "cube_list(numbers)\n",
    "print(numbers)"
   ]
  },
  {
   "cell_type": "markdown",
   "id": "55a9d2b0-c9cd-43e7-aee0-6810e149386b",
   "metadata": {},
   "source": [
    "### 4. (IPython Session)\n",
    "#### Use an empty list named `characters` and a `+=` augmented assignment statement to convert the string `'Birthday'` into a list of its characters.\n"
   ]
  },
  {
   "cell_type": "code",
   "execution_count": 4,
   "id": "279d900b-10ca-4482-9847-fe0d2cb3d605",
   "metadata": {},
   "outputs": [],
   "source": [
    "characters = []\n",
    "characters += 'Birthday'"
   ]
  },
  {
   "cell_type": "code",
   "execution_count": 5,
   "id": "1f3eaee2-9a69-4936-a6ca-4d6bd4433308",
   "metadata": {},
   "outputs": [
    {
     "name": "stdout",
     "output_type": "stream",
     "text": [
      "['B', 'i', 'r', 't', 'h', 'd', 'a', 'y']\n"
     ]
    }
   ],
   "source": [
    "print(characters)"
   ]
  },
  {
   "attachments": {},
   "cell_type": "markdown",
   "id": "83c01ca3-78e9-49de-bdce-d93af9be1202",
   "metadata": {},
   "source": [
    "# 5.3 Self Check\n"
   ]
  },
  {
   "cell_type": "markdown",
   "id": "98600b0e-1de3-472e-b14e-1edb2b787e9a",
   "metadata": {},
   "source": [
    "### 3. (IPython Session)\n",
    "#### Create a single-element tuple containing 123.45, then display it.\n"
   ]
  },
  {
   "cell_type": "code",
   "execution_count": 6,
   "id": "3e34d30e-4135-470e-9807-4a8200103a28",
   "metadata": {},
   "outputs": [],
   "source": [
    "single_element = 123.45,"
   ]
  },
  {
   "cell_type": "code",
   "execution_count": 7,
   "id": "a6a08201-b97e-46c8-b191-8c5d9eeb3f14",
   "metadata": {},
   "outputs": [
    {
     "data": {
      "text/plain": [
       "(123.45,)"
      ]
     },
     "execution_count": 7,
     "metadata": {},
     "output_type": "execute_result"
    }
   ],
   "source": [
    "single_element"
   ]
  },
  {
   "cell_type": "markdown",
   "id": "bddc213b-1c04-41ee-9d9f-f76234f039d7",
   "metadata": {},
   "source": [
    "### 4. (IPython Session)\n",
    "#### Show what happens when you attempt to concatenate sequences of different types—the list [1, 2, 3] and the tuple (4, 5, 6)—using the + operator.\n"
   ]
  },
  {
   "cell_type": "code",
   "execution_count": 2,
   "id": "9147a54b-6978-471e-8a2a-c6e6293b66af",
   "metadata": {},
   "outputs": [],
   "source": [
    "num_list = [1, 2, 3]\n",
    "num_tuple = (4, 5, 6)\n",
    "num_list += num_tuple"
   ]
  },
  {
   "cell_type": "code",
   "execution_count": 3,
   "id": "a104e1f0-6ec7-472a-8ba8-f5fc37febb05",
   "metadata": {},
   "outputs": [
    {
     "name": "stdout",
     "output_type": "stream",
     "text": [
      "[1, 2, 3, 4, 5, 6]\n",
      "(4, 5, 6)\n"
     ]
    }
   ],
   "source": [
    "print(num_list)\n",
    "print(num_tuple)"
   ]
  },
  {
   "cell_type": "code",
   "execution_count": 10,
   "id": "69117ca2-1c4c-4f78-baaa-bdc8bfc85ff8",
   "metadata": {},
   "outputs": [
    {
     "data": {
      "text/plain": [
       "[1, 2, 3, 4, 5, 6, 4, 5, 6]"
      ]
     },
     "execution_count": 10,
     "metadata": {},
     "output_type": "execute_result"
    }
   ],
   "source": [
    "num_list += num_tuple\n",
    "num_list"
   ]
  },
  {
   "cell_type": "code",
   "execution_count": 11,
   "id": "e0f93611-ccad-415c-9f4f-6c0d66ed89ef",
   "metadata": {},
   "outputs": [],
   "source": [
    "# num_list + num_tuple - error!"
   ]
  },
  {
   "cell_type": "markdown",
   "id": "e28b3614-9bad-412d-a71b-d7adcd45af81",
   "metadata": {},
   "source": [
    "# 5.4 Self Check\n"
   ]
  },
  {
   "cell_type": "markdown",
   "id": "df912d5e-f6b8-4e31-943c-ed86dac86ec4",
   "metadata": {},
   "source": [
    "### 3. (IPython Session)\n",
    "#### Create a tuple `high_low` representing a day of the week (a string) and its high and low temperatures (integers), display its string representation, then perform the following tasks in an interactive IPython session:\n",
    "#### a. Use the `[]` operator to access and display the `high_low` tuple’s elements.\n",
    "#### b. Unpack the `high_low` tuple into the variables `day` and `high`. What happens and why?\n"
   ]
  },
  {
   "cell_type": "code",
   "execution_count": 12,
   "id": "c1a2abaa-79d0-4499-ae4f-2a02c6fb99a9",
   "metadata": {},
   "outputs": [
    {
     "name": "stdout",
     "output_type": "stream",
     "text": [
      "Monday\n",
      "4\n",
      "12\n"
     ]
    }
   ],
   "source": [
    "high_low = 'Monday', 4, 12\n",
    "#a\n",
    "print(high_low[0])\n",
    "print(high_low[1])\n",
    "print(high_low[2])\n",
    "#b\n",
    "#day, high = high_low\n",
    "#bedzie error bo po musi byc tyle zmiennych po lewej stronie ile jest elementow w tuple"
   ]
  },
  {
   "cell_type": "markdown",
   "id": "471fa05e-3f1b-42a6-8848-7bda99bac04f",
   "metadata": {},
   "source": [
    "### 4. (IPython Session)\n",
    "#### Create the list `names` containing three name strings. Use a for loop and the `enumerate` function to iterate through the elements and display each element’s index and value.\n"
   ]
  },
  {
   "cell_type": "code",
   "execution_count": 13,
   "id": "61a79edb-30e5-49bf-8f82-b24a993172f8",
   "metadata": {},
   "outputs": [
    {
     "name": "stdout",
     "output_type": "stream",
     "text": [
      "0.    emil\n",
      "1.   dylan\n",
      "2.   janek\n"
     ]
    }
   ],
   "source": [
    "names = ['emil', 'dylan', 'janek']\n",
    "for i, v in enumerate(names):\n",
    "    print(f'{i}.{v:>8}')"
   ]
  },
  {
   "cell_type": "markdown",
   "id": "d4415b48-17c3-426d-b8a7-75ce41cec100",
   "metadata": {},
   "source": [
    "# 5.5 Self Check\n"
   ]
  },
  {
   "cell_type": "markdown",
   "id": "40118439-2d3d-4e8a-944d-ca2e60302d93",
   "metadata": {},
   "source": [
    "### 3. (IPython Session)\n",
    "#### Create a list called `numbers` containing the values from 1 through 15, then use slices to perform the following operations consecutively:\n",
    "#### a. Select `numbers`' even integers.\n",
    "#### b. Replace the elements at indices 5 through 9 with 0s, then show the resulting list.\n",
    "#### c. Keep only the first five elements, then show the resulting list.\n",
    "#### d. Delete all the remaining elements by assigning to a slice. Show the resulting list.\n"
   ]
  },
  {
   "cell_type": "code",
   "execution_count": 14,
   "id": "068fc014-3359-41af-b901-6dab965576a2",
   "metadata": {},
   "outputs": [],
   "source": [
    "numbers = [1,2,3,4,5,6,7,8,9,10,11,12,13,14,15]"
   ]
  },
  {
   "cell_type": "code",
   "execution_count": 15,
   "id": "94f52936-3334-409f-ae86-af1fd80a45b6",
   "metadata": {},
   "outputs": [
    {
     "data": {
      "text/plain": [
       "[2, 4, 6, 8, 10, 12, 14]"
      ]
     },
     "execution_count": 15,
     "metadata": {},
     "output_type": "execute_result"
    }
   ],
   "source": [
    "numbers[1::2]"
   ]
  },
  {
   "cell_type": "code",
   "execution_count": 16,
   "id": "d8504b71-6949-4a48-a7ab-271bad5c47cb",
   "metadata": {},
   "outputs": [
    {
     "name": "stdout",
     "output_type": "stream",
     "text": [
      "[1, 2, 3, 4, 0, 0, 0, 0, 0, 10, 11, 12, 13, 14, 15]\n"
     ]
    }
   ],
   "source": [
    "numbers[4:9] = [0,0,0,0,0]\n",
    "print(numbers)"
   ]
  },
  {
   "cell_type": "code",
   "execution_count": 17,
   "id": "2344b334-d71f-4d7d-9596-9e1733214c19",
   "metadata": {},
   "outputs": [
    {
     "data": {
      "text/plain": [
       "[1, 2, 3, 4, 0]"
      ]
     },
     "execution_count": 17,
     "metadata": {},
     "output_type": "execute_result"
    }
   ],
   "source": [
    "numbers = numbers[:5]\n",
    "numbers"
   ]
  },
  {
   "cell_type": "code",
   "execution_count": 18,
   "id": "10938345-da67-4ada-9950-2a77c5c730ca",
   "metadata": {},
   "outputs": [
    {
     "name": "stdout",
     "output_type": "stream",
     "text": [
      "[]\n"
     ]
    }
   ],
   "source": [
    "numbers[:] = []\n",
    "print(numbers)"
   ]
  },
  {
   "cell_type": "markdown",
   "id": "b298a527-97e4-430e-b57e-a261a2000e1d",
   "metadata": {},
   "source": [
    "# 5.6 Self Check\n"
   ]
  },
  {
   "cell_type": "markdown",
   "id": "856d9718-956d-4656-b243-d2d0e74b71a4",
   "metadata": {},
   "source": [
    "### 2. (IPython Session)\n",
    "#### Create a list called `numbers` containing the values from 1 through 15, then use the `del` statement to perform the following operations consecutively:\n",
    "#### a. Delete a slice containing the first four elements, then show the resulting list.\n",
    "#### b. Starting with the first element, use a slice to delete every other element of the list, then show the resulting list.\n"
   ]
  },
  {
   "cell_type": "code",
   "execution_count": 19,
   "id": "d8d245ff-dcc8-4f48-ab0c-dded911b713e",
   "metadata": {},
   "outputs": [],
   "source": [
    "numbers = list(range(1,16))"
   ]
  },
  {
   "cell_type": "code",
   "execution_count": 20,
   "id": "250698b2-d041-45cd-9d97-5bce94500104",
   "metadata": {},
   "outputs": [
    {
     "data": {
      "text/plain": [
       "[1, 2, 3, 4, 5, 6, 7, 8, 9, 10, 11, 12, 13, 14, 15]"
      ]
     },
     "execution_count": 20,
     "metadata": {},
     "output_type": "execute_result"
    }
   ],
   "source": [
    "numbers"
   ]
  },
  {
   "cell_type": "code",
   "execution_count": 21,
   "id": "1a4e0c91-b6a5-457d-8c71-ad3b93609df3",
   "metadata": {},
   "outputs": [
    {
     "data": {
      "text/plain": [
       "[5, 6, 7, 8, 9, 10, 11, 12, 13, 14, 15]"
      ]
     },
     "execution_count": 21,
     "metadata": {},
     "output_type": "execute_result"
    }
   ],
   "source": [
    "del numbers[:4]\n",
    "numbers"
   ]
  },
  {
   "cell_type": "code",
   "execution_count": 22,
   "id": "045ff327-c6ee-4b26-803b-6dbe96bd7951",
   "metadata": {},
   "outputs": [
    {
     "data": {
      "text/plain": [
       "[6, 8, 10, 12, 14]"
      ]
     },
     "execution_count": 22,
     "metadata": {},
     "output_type": "execute_result"
    }
   ],
   "source": [
    "del numbers[::2]\n",
    "numbers"
   ]
  },
  {
   "cell_type": "markdown",
   "id": "288d2ee2-4921-45b8-b467-07be10f66d92",
   "metadata": {},
   "source": [
    "# 5.8 Self Check\n"
   ]
  },
  {
   "cell_type": "markdown",
   "id": "906652d7-993f-4418-a364-785c6836d5f2",
   "metadata": {},
   "source": [
    "### 3. (IPython Session)\n",
    "#### Create a `foods` list containing 'Cookies', 'pizza', 'Grapes', 'apples', 'steak' and 'Bacon'. Use list method `sort` to sort the list in ascending order. Are the strings in alphabetical order?\n"
   ]
  },
  {
   "cell_type": "code",
   "execution_count": 23,
   "id": "2c55be7f-bb6c-4e9a-a496-c716167f2e9d",
   "metadata": {},
   "outputs": [],
   "source": [
    "foods = ['Cookies', 'pizza', 'Grapes', 'apples', 'steak', 'Bacon']"
   ]
  },
  {
   "cell_type": "code",
   "execution_count": 24,
   "id": "2b73d970-a3ab-4842-b73c-32098d5c7f78",
   "metadata": {},
   "outputs": [
    {
     "data": {
      "text/plain": [
       "['Bacon', 'Cookies', 'Grapes', 'apples', 'pizza', 'steak']"
      ]
     },
     "execution_count": 24,
     "metadata": {},
     "output_type": "execute_result"
    }
   ],
   "source": [
    "foods.sort()\n",
    "foods"
   ]
  },
  {
   "cell_type": "markdown",
   "id": "5dceeda8-2aff-48ea-ab51-369b43312066",
   "metadata": {},
   "source": [
    "# 5.10 Self Check\n"
   ]
  },
  {
   "cell_type": "markdown",
   "id": "80170375-34dc-430a-84f7-5bb3af156c9b",
   "metadata": {},
   "source": [
    "### 3. (IPython Session)\n",
    "#### Create a list called `rainbow` containing `'green'`, `'orange'` and `'violet'`. Perform the following operations consecutively using list methods and show the list’s contents after each operation:\n",
    "#### a. Determine the index of `'violet'` then use it to insert `'red'` before `'violet'`.\n",
    "#### b. Append `'yellow'` to the end of the list.\n",
    "#### c. Reverse the list’s elements.\n",
    "#### d. Remove the element `'orange'`.\n"
   ]
  },
  {
   "cell_type": "code",
   "execution_count": 25,
   "id": "b6d4a7fe-220b-4658-81e3-b7df8fbbae04",
   "metadata": {},
   "outputs": [],
   "source": [
    "rainbow = ['green', 'orange', 'violet']"
   ]
  },
  {
   "cell_type": "code",
   "execution_count": 26,
   "id": "a6342fb6-d8ff-4c95-b7fc-9f6163d52d5e",
   "metadata": {},
   "outputs": [
    {
     "data": {
      "text/plain": [
       "['green', 'orange', 'violet']"
      ]
     },
     "execution_count": 26,
     "metadata": {},
     "output_type": "execute_result"
    }
   ],
   "source": [
    "rainbow"
   ]
  },
  {
   "cell_type": "code",
   "execution_count": 27,
   "id": "7e1ded25-3064-4fa6-9c95-ea730243c868",
   "metadata": {},
   "outputs": [],
   "source": [
    "rainbow.insert(rainbow.index('violet'),'red')"
   ]
  },
  {
   "cell_type": "code",
   "execution_count": 28,
   "id": "96290a52-ec75-4a41-8d8c-1e3c88fb12d7",
   "metadata": {},
   "outputs": [
    {
     "data": {
      "text/plain": [
       "['green', 'orange', 'red', 'violet']"
      ]
     },
     "execution_count": 28,
     "metadata": {},
     "output_type": "execute_result"
    }
   ],
   "source": [
    "rainbow"
   ]
  },
  {
   "cell_type": "code",
   "execution_count": 29,
   "id": "fd6a5f86-b9ea-4978-bf1c-67c1724b505c",
   "metadata": {},
   "outputs": [],
   "source": [
    "rainbow.append('yellow')"
   ]
  },
  {
   "cell_type": "code",
   "execution_count": 30,
   "id": "cf62f50b-f1ed-45e3-a550-8c2fccb3a3a2",
   "metadata": {},
   "outputs": [
    {
     "data": {
      "text/plain": [
       "['green', 'orange', 'red', 'violet', 'yellow']"
      ]
     },
     "execution_count": 30,
     "metadata": {},
     "output_type": "execute_result"
    }
   ],
   "source": [
    "rainbow"
   ]
  },
  {
   "cell_type": "code",
   "execution_count": 31,
   "id": "a293bf8e-a666-4fbb-a16e-32c6a98d0ba7",
   "metadata": {},
   "outputs": [],
   "source": [
    "rainbow.reverse()"
   ]
  },
  {
   "cell_type": "code",
   "execution_count": 32,
   "id": "e139e73f-37d0-43c6-bcbc-6b8dd0f12823",
   "metadata": {},
   "outputs": [
    {
     "data": {
      "text/plain": [
       "['yellow', 'violet', 'red', 'orange', 'green']"
      ]
     },
     "execution_count": 32,
     "metadata": {},
     "output_type": "execute_result"
    }
   ],
   "source": [
    "rainbow"
   ]
  },
  {
   "cell_type": "code",
   "execution_count": 33,
   "id": "68ccc48d-48a0-48d3-a35a-c136e6d81294",
   "metadata": {},
   "outputs": [],
   "source": [
    "rainbow.remove('orange')"
   ]
  },
  {
   "cell_type": "code",
   "execution_count": 34,
   "id": "88d4a243-0a78-4c6a-83e6-39876df434e1",
   "metadata": {},
   "outputs": [
    {
     "data": {
      "text/plain": [
       "['yellow', 'violet', 'red', 'green']"
      ]
     },
     "execution_count": 34,
     "metadata": {},
     "output_type": "execute_result"
    }
   ],
   "source": [
    "rainbow"
   ]
  },
  {
   "cell_type": "markdown",
   "id": "985020e9-eb50-482d-a64d-2ecf88a02c27",
   "metadata": {},
   "source": [
    "# 5.12 Self Check\n"
   ]
  },
  {
   "cell_type": "markdown",
   "id": "01f1118b-66e4-4436-a823-a24851f83181",
   "metadata": {},
   "source": [
    "### 3. (IPython Session)\n",
    "#### Use a list comprehension to create a list of tuples containing the numbers 1–5 and their cubes — that is, [(1, 1), (2, 8), (3, 27), …]. To create tuples, place parentheses around the expression to the left of the list comprehension’s `for` clause.\n"
   ]
  },
  {
   "cell_type": "code",
   "execution_count": 35,
   "id": "286ad6e4-54d5-4c2b-b389-fa9d23410ce6",
   "metadata": {},
   "outputs": [],
   "source": [
    "numbers = [(i,i**3) for i in range(1,6)]"
   ]
  },
  {
   "cell_type": "code",
   "execution_count": 36,
   "id": "b3cb7023-0d7e-4265-ab18-7bce69a39d51",
   "metadata": {},
   "outputs": [
    {
     "data": {
      "text/plain": [
       "[(1, 1), (2, 8), (3, 27), (4, 64), (5, 125)]"
      ]
     },
     "execution_count": 36,
     "metadata": {},
     "output_type": "execute_result"
    }
   ],
   "source": [
    "numbers"
   ]
  },
  {
   "cell_type": "markdown",
   "id": "9ba63898-8510-4938-9b7b-f00d2a52dde2",
   "metadata": {},
   "source": [
    "### 4. (IPython Session)\n",
    "#### Use a list comprehension and the `range` function with a step to create a list of the multiples of 3 that are less than 30.\n"
   ]
  },
  {
   "cell_type": "code",
   "execution_count": 37,
   "id": "fbd70457-5e5e-4059-9980-4942f63e9daf",
   "metadata": {},
   "outputs": [],
   "source": [
    "numbers2 = [i for i in range(3,30,3)]"
   ]
  },
  {
   "cell_type": "code",
   "execution_count": 38,
   "id": "3c2c427e-20c7-41cb-b0d2-4392289f644d",
   "metadata": {},
   "outputs": [
    {
     "data": {
      "text/plain": [
       "[3, 6, 9, 12, 15, 18, 21, 24, 27]"
      ]
     },
     "execution_count": 38,
     "metadata": {},
     "output_type": "execute_result"
    }
   ],
   "source": [
    "numbers2"
   ]
  },
  {
   "cell_type": "markdown",
   "id": "6aeb4f3e-6850-4b1f-ac10-585c371a02fc",
   "metadata": {},
   "source": [
    "# 5.13 Self Check\n"
   ]
  },
  {
   "cell_type": "markdown",
   "id": "23f605d4-8f8d-4f18-8708-7a1b5b1c6181",
   "metadata": {},
   "source": [
    "### 2. (IPython Session)\n",
    "#### Create a generator expression that cubes the even integers in a list containing 10, 3, 7, 1, 9, 4 and 2. Use function `list` to create a list of the results. Note that the function call’s parentheses also act as the generator expression’s parentheses.\n"
   ]
  },
  {
   "cell_type": "code",
   "execution_count": 39,
   "id": "f5bf56c9-4e94-4936-be41-da0861be84bc",
   "metadata": {},
   "outputs": [],
   "source": [
    "numbers3 = [10, 3, 7, 1, 9, 4, 2]"
   ]
  },
  {
   "cell_type": "code",
   "execution_count": 40,
   "id": "ee7f4776-baf1-4954-be20-4c99d51a4549",
   "metadata": {},
   "outputs": [],
   "source": [
    "result = list(i**3 for i in numbers3 if i%2 == 0)"
   ]
  },
  {
   "cell_type": "code",
   "execution_count": 41,
   "id": "4b8ce6b1-491a-4ffb-8961-8f3578ae367f",
   "metadata": {},
   "outputs": [
    {
     "data": {
      "text/plain": [
       "[1000, 64, 8]"
      ]
     },
     "execution_count": 41,
     "metadata": {},
     "output_type": "execute_result"
    }
   ],
   "source": [
    "result"
   ]
  },
  {
   "cell_type": "markdown",
   "id": "f97cea18-79d8-44a9-8570-14e364a49f7b",
   "metadata": {},
   "source": [
    "# 5.14 Self Check\n"
   ]
  },
  {
   "cell_type": "markdown",
   "id": "bc0ea92d-9fe9-424f-aff3-e6b5c6f2a2c1",
   "metadata": {},
   "source": [
    "### 3. (IPython Session)\n",
    "#### Create a list called `numbers` containing 1 through 15, then perform the following tasks:\n",
    "#### a. Use the built-in function `filter` with a `lambda` to select only `numbers`' even elements. Create a new list containing the result.\n",
    "#### b. Use the built-in function `map` with a `lambda` to square the values of `numbers`' elements. Create a new list containing the result.\n",
    "#### c. Filter `numbers`' even elements then map them to their squares. Create a new list containing the result.\n"
   ]
  },
  {
   "cell_type": "code",
   "execution_count": 42,
   "id": "91cf4195-9c75-4da6-81b6-04eec6f9c003",
   "metadata": {},
   "outputs": [],
   "source": [
    "numbers = [i for i in range(1,16)]"
   ]
  },
  {
   "cell_type": "code",
   "execution_count": 43,
   "id": "f0f6e2f0-8f8c-47a3-bbdb-c1162a1ccf79",
   "metadata": {},
   "outputs": [
    {
     "data": {
      "text/plain": [
       "[2, 4, 6, 8, 10, 12, 14]"
      ]
     },
     "execution_count": 43,
     "metadata": {},
     "output_type": "execute_result"
    }
   ],
   "source": [
    "list(filter(lambda x: x % 2 == 0, numbers))"
   ]
  },
  {
   "cell_type": "code",
   "execution_count": 44,
   "id": "70bf448d-97db-435e-8cb6-371c2198aeb7",
   "metadata": {},
   "outputs": [
    {
     "data": {
      "text/plain": [
       "[1, 4, 9, 16, 25, 36, 49, 64, 81, 100, 121, 144, 169, 196, 225]"
      ]
     },
     "execution_count": 44,
     "metadata": {},
     "output_type": "execute_result"
    }
   ],
   "source": [
    "list(map(lambda x: x ** 2, numbers))"
   ]
  },
  {
   "cell_type": "code",
   "execution_count": 45,
   "id": "bc480189-7feb-4e0d-8c14-5d47c9290c6e",
   "metadata": {},
   "outputs": [
    {
     "data": {
      "text/plain": [
       "[4, 16, 36, 64, 100, 144, 196]"
      ]
     },
     "execution_count": 45,
     "metadata": {},
     "output_type": "execute_result"
    }
   ],
   "source": [
    "list(map(lambda x: x ** 2, filter(lambda x: x % 2 == 0, numbers)))"
   ]
  },
  {
   "cell_type": "markdown",
   "id": "39eed4e7-8aba-4194-b6aa-ab0bda7d184e",
   "metadata": {},
   "source": [
    "### 4. (IPython Session)\n",
    "#### Map a list of the three Fahrenheit temperatures 41, 32 and 212 to a list of tuples containing the Fahrenheit temperatures and their Celsius equivalents. Convert Fahrenheit temperatures to Celsius with the following formula:\n",
    "#### Celsius = (Fahrenheit − 32) * (5 / 9)\n"
   ]
  },
  {
   "cell_type": "code",
   "execution_count": 46,
   "id": "9f42916d-87af-40a5-b04a-a885e68a9e85",
   "metadata": {},
   "outputs": [],
   "source": [
    "fahrenheit = [41, 32, 212]"
   ]
  },
  {
   "cell_type": "code",
   "execution_count": 47,
   "id": "217a1b76-939e-4a06-9bd0-d430b52481af",
   "metadata": {},
   "outputs": [
    {
     "data": {
      "text/plain": [
       "[(41, 5.0), (32, 0.0), (212, 100.0)]"
      ]
     },
     "execution_count": 47,
     "metadata": {},
     "output_type": "execute_result"
    }
   ],
   "source": [
    "list(map(lambda f:(f, (f -32) * (5 / 9)), fahrenheit))"
   ]
  },
  {
   "cell_type": "markdown",
   "id": "cf902ba0-e97b-41a6-9df4-0e8a040b6435",
   "metadata": {},
   "source": [
    "# 5.15 Self Check\n"
   ]
  },
  {
   "cell_type": "markdown",
   "id": "e79758fb-9dd5-4236-b4cc-a0fb821de78e",
   "metadata": {},
   "source": [
    "### 3. (IPython Session)\n",
    "#### Create the list `foods` containing `'Cookies'`, `'pizza'`, `'Grapes'`, `'apples'`, `'steak'` and `'Bacon'`. Find the smallest string with `min`, then reimplement the `min` call using the `key` function to ignore the strings’ case. Do you get the same results? Why or why not?\n"
   ]
  },
  {
   "cell_type": "code",
   "execution_count": 48,
   "id": "61b682f7-994c-493e-ba9e-0b7845c50349",
   "metadata": {},
   "outputs": [],
   "source": [
    "foods = ['Cookies', 'pizza', 'Grapes', 'apples', 'steak', 'Bacon']"
   ]
  },
  {
   "cell_type": "code",
   "execution_count": 49,
   "id": "88b97437-c149-4a66-bbb0-5e9b17d3dbbf",
   "metadata": {},
   "outputs": [
    {
     "data": {
      "text/plain": [
       "'Bacon'"
      ]
     },
     "execution_count": 49,
     "metadata": {},
     "output_type": "execute_result"
    }
   ],
   "source": [
    "min(foods)"
   ]
  },
  {
   "cell_type": "code",
   "execution_count": 50,
   "id": "fb47ded7-9a37-40d1-b3f1-de65bea8383f",
   "metadata": {},
   "outputs": [
    {
     "data": {
      "text/plain": [
       "'apples'"
      ]
     },
     "execution_count": 50,
     "metadata": {},
     "output_type": "execute_result"
    }
   ],
   "source": [
    "min(foods, key = lambda x: x.lower())"
   ]
  },
  {
   "cell_type": "markdown",
   "id": "ef811048-1b12-4f88-a85a-c726e43f355a",
   "metadata": {},
   "source": [
    "### 4. (IPython Session)\n",
    "#### Use `zip` with two integer lists to create a new list containing the sum of the elements from corresponding indices in both lists (that is, add the elements at index 0, add the elements at index 1, ...).\n"
   ]
  },
  {
   "cell_type": "code",
   "execution_count": 51,
   "id": "65d5ce5a-fbbc-4cd9-b940-d5870a49e71b",
   "metadata": {},
   "outputs": [],
   "source": [
    "numbers1 = list(range(1,4))\n",
    "numbers2 = list(range(4,7))"
   ]
  },
  {
   "cell_type": "code",
   "execution_count": 52,
   "id": "c4e4ec5b-8b1d-4cd0-a4a9-0745223b2ac8",
   "metadata": {},
   "outputs": [
    {
     "data": {
      "text/plain": [
       "[5, 7, 9]"
      ]
     },
     "execution_count": 52,
     "metadata": {},
     "output_type": "execute_result"
    }
   ],
   "source": [
    "num_sum = list(map(lambda x: sum(x), zip(numbers1, numbers2)))\n",
    "num_sum"
   ]
  },
  {
   "cell_type": "markdown",
   "id": "0faa8ab8-4437-4e25-b662-0d56cba0617f",
   "metadata": {},
   "source": [
    "# 5.16 Self Check\n"
   ]
  },
  {
   "cell_type": "markdown",
   "id": "4919a731-988a-44fb-a19f-9fcc47373ab1",
   "metadata": {},
   "source": [
    "### 4. (IPython Session)\n",
    "#### Given the two-by-three integer list `t`:\n",
    "#### t = [[10, 7, 3], [20, 4, 17]]\n",
    "#### a. Determine and display the average of `t`’s elements using nested `for` statements to iterate through the elements.\n",
    "#### b. Write a `for` statement that determines and displays the average of `t`’s elements using the reductions `sum` and `len` to calculate the sum of each row’s elements and the number of elements in each row.\n"
   ]
  },
  {
   "cell_type": "code",
   "execution_count": 53,
   "id": "30f4832d-cc09-4d57-8027-887b06200c27",
   "metadata": {},
   "outputs": [],
   "source": [
    "t = [[10, 7, 3], [20, 4, 17]]"
   ]
  },
  {
   "cell_type": "code",
   "execution_count": 75,
   "id": "dec7ba9b-1f72-4a80-b2ce-58fef2c1ea25",
   "metadata": {},
   "outputs": [],
   "source": [
    "total = 0\n",
    "count = 0\n",
    "for row in t:\n",
    "    for i in row:\n",
    "        count += 1\n",
    "        total += i"
   ]
  },
  {
   "cell_type": "code",
   "execution_count": 77,
   "id": "6204c442-1363-4342-9fa3-cf9031520b3a",
   "metadata": {},
   "outputs": [
    {
     "data": {
      "text/plain": [
       "10.166666666666666"
      ]
     },
     "execution_count": 77,
     "metadata": {},
     "output_type": "execute_result"
    }
   ],
   "source": [
    "average = total / count\n",
    "average"
   ]
  },
  {
   "cell_type": "code",
   "execution_count": 82,
   "id": "83bd756c-c3d1-4c02-9943-1cb6d8363df0",
   "metadata": {},
   "outputs": [],
   "source": [
    "total = 0\n",
    "count = 0 \n",
    "for row in t:\n",
    "    total += sum(row)\n",
    "    count += len(row)"
   ]
  },
  {
   "cell_type": "code",
   "execution_count": 84,
   "id": "7c6ed846-ce10-4b60-97ae-a215cfbf59d6",
   "metadata": {},
   "outputs": [
    {
     "data": {
      "text/plain": [
       "10.166666666666666"
      ]
     },
     "execution_count": 84,
     "metadata": {},
     "output_type": "execute_result"
    }
   ],
   "source": [
    "average = total / count\n",
    "average"
   ]
  }
 ],
 "metadata": {
  "kernelspec": {
   "display_name": "base",
   "language": "python",
   "name": "python3"
  },
  "language_info": {
   "codemirror_mode": {
    "name": "ipython",
    "version": 3
   },
   "file_extension": ".py",
   "mimetype": "text/x-python",
   "name": "python",
   "nbconvert_exporter": "python",
   "pygments_lexer": "ipython3",
   "version": "3.12.7"
  }
 },
 "nbformat": 4,
 "nbformat_minor": 5
}
