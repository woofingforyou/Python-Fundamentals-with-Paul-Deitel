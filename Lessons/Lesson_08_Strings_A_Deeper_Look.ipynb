{
 "cells": [
  {
   "cell_type": "markdown",
   "id": "223ff11d-87ab-419d-b20d-71a868966626",
   "metadata": {},
   "source": [
    "# 8.2.1 Self Check\n",
    "\n",
    "### 3. *(_IPython Session_)*\n",
    "Use the type specifier **`c`** to display the characters that correspond to the character codes 58, 45 and 41.\n"
   ]
  },
  {
   "cell_type": "code",
   "execution_count": 6,
   "id": "9ee623bc-29cf-4d16-b020-15ba6cb2db06",
   "metadata": {},
   "outputs": [
    {
     "name": "stdout",
     "output_type": "stream",
     "text": [
      ":-)\n"
     ]
    }
   ],
   "source": [
    " print(f'{58:c}{45:c}{41:c}')"
   ]
  },
  {
   "cell_type": "markdown",
   "id": "216efba0-8fd0-4e27-9103-9250bbb614ab",
   "metadata": {},
   "source": [
    "# 8.2.2 Self Check\n",
    "\n",
    "### 2. *(_IPython Session_)*\n",
    "Display on separate lines the name **`'Amanda'`** right-, center- and left-aligned in a field of 10 characters.  \n",
    "Enclose each result in brackets so you can see the alignment results more clearly.\n"
   ]
  },
  {
   "cell_type": "code",
   "execution_count": 7,
   "id": "a42dde7c-189f-49cf-a22b-32ef64cab1a0",
   "metadata": {},
   "outputs": [
    {
     "data": {
      "text/plain": [
       "'[amanda    ]'"
      ]
     },
     "execution_count": 7,
     "metadata": {},
     "output_type": "execute_result"
    }
   ],
   "source": [
    "f'[{'amanda':10}]'"
   ]
  },
  {
   "cell_type": "code",
   "execution_count": 9,
   "id": "f7ed0c4a-da3f-42ee-9a29-a35e18e281a1",
   "metadata": {},
   "outputs": [
    {
     "data": {
      "text/plain": [
       "'[    amanda]'"
      ]
     },
     "execution_count": 9,
     "metadata": {},
     "output_type": "execute_result"
    }
   ],
   "source": [
    "f'[{'amanda':>10}]'"
   ]
  },
  {
   "cell_type": "code",
   "execution_count": 10,
   "id": "8837f94e-1e74-4290-b6c1-ee79f2aca5af",
   "metadata": {},
   "outputs": [
    {
     "data": {
      "text/plain": [
       "'[  amanda  ]'"
      ]
     },
     "execution_count": 10,
     "metadata": {},
     "output_type": "execute_result"
    }
   ],
   "source": [
    "f'[{'amanda':^10}]'"
   ]
  },
  {
   "cell_type": "markdown",
   "id": "3dcb86c2-3dc4-4372-8cb1-99458029232e",
   "metadata": {},
   "source": [
    "# 8.2.3 Self Check\n",
    "\n",
    "### 2. *(_IPython Session_)*\n",
    "Print the values **10240.473** and **–3210.9521**,  \n",
    "each preceded by its sign in 10-character fields with thousands separators,  \n",
    "their decimal points aligned vertically and two digits of precision.\n"
   ]
  },
  {
   "cell_type": "code",
   "execution_count": 18,
   "id": "5314f837-b3ef-44e8-a8d4-ac67aecb686f",
   "metadata": {},
   "outputs": [
    {
     "data": {
      "text/plain": [
       "'+10,240.47,  -3,210.95'"
      ]
     },
     "execution_count": 18,
     "metadata": {},
     "output_type": "execute_result"
    }
   ],
   "source": [
    "f'{10240.473:+10,.2f}, {-3210.9521:+10,.2f}'"
   ]
  },
  {
   "cell_type": "markdown",
   "id": "1bbcf679-e470-422a-8ac1-1258dee7bd22",
   "metadata": {},
   "source": [
    "# 8.2.4 Self Check\n",
    "\n",
    "## 1. *(IPython Session)*\n",
    "Use string method `format` to reimplement the IPython sessions in the last three Self Check exercises:\n",
    "\n",
    "### a) \n",
    "Use the type specifier `c` to display the characters that correspond to the character codes 58, 45 and 41.\n",
    "\n",
    "### b) \n",
    "Display on separate lines the name `'Amanda'` right-, center- and left-aligned in a field of 10 characters.  \n",
    "Enclose each result in brackets so you can see the alignment results more clearly.\n",
    "\n",
    "### c) \n",
    "Print the values `10240.473` and `–3210.9521`, each preceded by its sign in 10-character fields  \n",
    "with thousands separators, their decimal points aligned vertically and two digits of precision.\n"
   ]
  },
  {
   "cell_type": "code",
   "execution_count": 2,
   "id": "2e52a384-a72b-4b7d-a364-b6bcc03588af",
   "metadata": {},
   "outputs": [
    {
     "data": {
      "text/plain": [
       "':-)'"
      ]
     },
     "execution_count": 2,
     "metadata": {},
     "output_type": "execute_result"
    }
   ],
   "source": [
    "#a\n",
    "'{:c}{:c}{:c}'.format(58,45,41)"
   ]
  },
  {
   "cell_type": "code",
   "execution_count": 9,
   "id": "bf2d3756-884c-4a97-bfa7-cb9ae27a9525",
   "metadata": {},
   "outputs": [
    {
     "data": {
      "text/plain": [
       "'[    Amanda][  Amanda  ][Amanda    ]'"
      ]
     },
     "execution_count": 9,
     "metadata": {},
     "output_type": "execute_result"
    }
   ],
   "source": [
    "#b\n",
    "'[{0:>10}][{0:^10}][{0:<10}]'.format('Amanda')"
   ]
  },
  {
   "cell_type": "code",
   "execution_count": 12,
   "id": "b25e387e-f336-459b-9201-809f548ddbd1",
   "metadata": {},
   "outputs": [
    {
     "data": {
      "text/plain": [
       "'[+10,240.47][ -3,210.95]'"
      ]
     },
     "execution_count": 12,
     "metadata": {},
     "output_type": "execute_result"
    }
   ],
   "source": [
    "#c\n",
    "'[{:+10,.2f}][{:+10,.2f}]'.format(10240.473, -3210.9521)"
   ]
  }
 ],
 "metadata": {
  "kernelspec": {
   "display_name": "Python 3 (ipykernel)",
   "language": "python",
   "name": "python3"
  },
  "language_info": {
   "codemirror_mode": {
    "name": "ipython",
    "version": 3
   },
   "file_extension": ".py",
   "mimetype": "text/x-python",
   "name": "python",
   "nbconvert_exporter": "python",
   "pygments_lexer": "ipython3",
   "version": "3.12.7"
  }
 },
 "nbformat": 4,
 "nbformat_minor": 5
}
