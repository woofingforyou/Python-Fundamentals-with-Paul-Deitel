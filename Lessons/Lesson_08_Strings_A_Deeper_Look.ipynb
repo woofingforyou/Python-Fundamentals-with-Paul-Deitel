{
 "cells": [
  {
   "cell_type": "markdown",
   "id": "223ff11d-87ab-419d-b20d-71a868966626",
   "metadata": {
    "jp-MarkdownHeadingCollapsed": true
   },
   "source": [
    "# 8.2.1 Self Check\n",
    "\n",
    "### 3. *(_IPython Session_)*\n",
    "Use the type specifier **`c`** to display the characters that correspond to the character codes 58, 45 and 41.\n"
   ]
  },
  {
   "cell_type": "code",
   "execution_count": 6,
   "id": "9ee623bc-29cf-4d16-b020-15ba6cb2db06",
   "metadata": {},
   "outputs": [
    {
     "name": "stdout",
     "output_type": "stream",
     "text": [
      ":-)\n"
     ]
    }
   ],
   "source": [
    " print(f'{58:c}{45:c}{41:c}')"
   ]
  },
  {
   "cell_type": "markdown",
   "id": "216efba0-8fd0-4e27-9103-9250bbb614ab",
   "metadata": {
    "jp-MarkdownHeadingCollapsed": true
   },
   "source": [
    "# 8.2.2 Self Check\n",
    "\n",
    "### 2. *(_IPython Session_)*\n",
    "Display on separate lines the name **`'Amanda'`** right-, center- and left-aligned in a field of 10 characters.  \n",
    "Enclose each result in brackets so you can see the alignment results more clearly.\n"
   ]
  },
  {
   "cell_type": "code",
   "execution_count": 7,
   "id": "a42dde7c-189f-49cf-a22b-32ef64cab1a0",
   "metadata": {},
   "outputs": [
    {
     "data": {
      "text/plain": [
       "'[amanda    ]'"
      ]
     },
     "execution_count": 7,
     "metadata": {},
     "output_type": "execute_result"
    }
   ],
   "source": [
    "f'[{'amanda':10}]'"
   ]
  },
  {
   "cell_type": "code",
   "execution_count": 9,
   "id": "f7ed0c4a-da3f-42ee-9a29-a35e18e281a1",
   "metadata": {},
   "outputs": [
    {
     "data": {
      "text/plain": [
       "'[    amanda]'"
      ]
     },
     "execution_count": 9,
     "metadata": {},
     "output_type": "execute_result"
    }
   ],
   "source": [
    "f'[{'amanda':>10}]'"
   ]
  },
  {
   "cell_type": "code",
   "execution_count": 10,
   "id": "8837f94e-1e74-4290-b6c1-ee79f2aca5af",
   "metadata": {},
   "outputs": [
    {
     "data": {
      "text/plain": [
       "'[  amanda  ]'"
      ]
     },
     "execution_count": 10,
     "metadata": {},
     "output_type": "execute_result"
    }
   ],
   "source": [
    "f'[{'amanda':^10}]'"
   ]
  }
 ],
 "metadata": {
  "kernelspec": {
   "display_name": "Python 3 (ipykernel)",
   "language": "python",
   "name": "python3"
  },
  "language_info": {
   "codemirror_mode": {
    "name": "ipython",
    "version": 3
   },
   "file_extension": ".py",
   "mimetype": "text/x-python",
   "name": "python",
   "nbconvert_exporter": "python",
   "pygments_lexer": "ipython3",
   "version": "3.12.7"
  }
 },
 "nbformat": 4,
 "nbformat_minor": 5
}
