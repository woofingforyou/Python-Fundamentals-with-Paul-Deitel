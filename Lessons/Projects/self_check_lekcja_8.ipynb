{
 "cells": [
  {
   "cell_type": "markdown",
   "id": "7178fd8a",
   "metadata": {},
   "source": [
    "## 🧠 Self Check – Kompaktowa lekcja 8 (stringi i regex dla ML/tradingu)"
   ]
  },
  {
   "cell_type": "markdown",
   "id": "9fb21124",
   "metadata": {},
   "source": [
    "### 1. Usuń białe znaki z początku i końca stringa `'  ETHUSDT  '`"
   ]
  },
  {
   "cell_type": "code",
   "execution_count": 1,
   "id": "aa24b25d",
   "metadata": {},
   "outputs": [
    {
     "data": {
      "text/plain": [
       "['ETHUSDT']"
      ]
     },
     "execution_count": 1,
     "metadata": {},
     "output_type": "execute_result"
    }
   ],
   "source": [
    "# your code here\n",
    "s = '   ETHUSDT   '\n",
    "s.split()"
   ]
  },
  {
   "cell_type": "markdown",
   "id": "7df3d442",
   "metadata": {},
   "source": [
    "### 2. Podziel string `'BTCUSDT'` na dwie części: bazową i quote currency, dzieląc po `'U'`."
   ]
  },
  {
   "cell_type": "code",
   "execution_count": 4,
   "id": "3bd19607",
   "metadata": {},
   "outputs": [
    {
     "data": {
      "text/plain": [
       "['BTC', 'SDT']"
      ]
     },
     "execution_count": 4,
     "metadata": {},
     "output_type": "execute_result"
    }
   ],
   "source": [
    "# your code here\n",
    "s = 'BTCUSDT'\n",
    "s.split('U')"
   ]
  },
  {
   "cell_type": "markdown",
   "id": "62763e1e",
   "metadata": {},
   "source": [
    "### 3. Napisz wyrażenie regularne, które znajdzie wszystkie liczby całkowite w stringu `'Trade 1: 40000, Trade 2: 39500'`."
   ]
  },
  {
   "cell_type": "code",
   "execution_count": 5,
   "id": "37536c40-55ee-425d-8fa4-8a0742351683",
   "metadata": {},
   "outputs": [],
   "source": [
    "import re"
   ]
  },
  {
   "cell_type": "code",
   "execution_count": 13,
   "id": "57c94da7-dda0-48a6-a913-d697bce2c5e2",
   "metadata": {},
   "outputs": [
    {
     "data": {
      "text/plain": [
       "['1', '40000', '2', '39500']"
      ]
     },
     "execution_count": 13,
     "metadata": {},
     "output_type": "execute_result"
    }
   ],
   "source": [
    "# your code here\n",
    "s = 'Trade 1: 40000, Trade 2: 39500'\n",
    "re.findall(r'\\d+',s)"
   ]
  },
  {
   "cell_type": "markdown",
   "id": "62db7609",
   "metadata": {},
   "source": [
    "### 4. Stwórz Pandas DataFrame z kolumną `symbol` zawierającą `['BTCUSDT', 'XRPUSDT', 'LTCUSDT']` i utwórz nową kolumnę `base`, w której `USDT` zostało usunięte."
   ]
  },
  {
   "cell_type": "code",
   "execution_count": null,
   "id": "caad22ae",
   "metadata": {},
   "outputs": [],
   "source": [
    "# your code here\n"
   ]
  },
  {
   "cell_type": "markdown",
   "id": "82e27d8b",
   "metadata": {},
   "source": [
    "### 5. Sprawdź, które z symboli w kolumnie `symbol` zaczynają się na `'X'`."
   ]
  },
  {
   "cell_type": "code",
   "execution_count": null,
   "id": "4e6202e6",
   "metadata": {},
   "outputs": [],
   "source": [
    "# your code here\n"
   ]
  }
 ],
 "metadata": {
  "kernelspec": {
   "display_name": "Python 3 (ipykernel)",
   "language": "python",
   "name": "python3"
  },
  "language_info": {
   "codemirror_mode": {
    "name": "ipython",
    "version": 3
   },
   "file_extension": ".py",
   "mimetype": "text/x-python",
   "name": "python",
   "nbconvert_exporter": "python",
   "pygments_lexer": "ipython3",
   "version": "3.12.7"
  }
 },
 "nbformat": 4,
 "nbformat_minor": 5
}
