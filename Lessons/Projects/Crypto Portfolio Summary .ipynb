{
 "cells": [
  {
   "cell_type": "markdown",
   "id": "b4098de7-9f0e-4be7-8b55-6b9ee01f5bbd",
   "metadata": {},
   "source": [
    "## 🧠 Projekt 1: Crypto Portfolio Summary\n",
    "\n",
    "### 🎯 Cel:\n",
    "Napisz program, który:\n",
    "\n",
    "1. Zawiera dane o transakcjach zakupu kryptowalut (np. ETH, BTC),\n",
    "2. Oblicza:\n",
    "   - łączną ilość kupionego ETH i BTC,\n",
    "   - średnią cenę zakupu każdej waluty,\n",
    "3. Wyświetla wyniki w czytelnej formie.\n",
    "\n",
    "---\n",
    "\n",
    "### 📦 Dane wejściowe (podane w kodzie):\n",
    "\n",
    "```python\n",
    "transactions = [\n",
    "    {\"asset\": \"ETH\", \"amount\": 0.5, \"price\": 1800},\n",
    "    {\"asset\": \"BTC\", \"amount\": 0.01, \"price\": 30000},\n",
    "    {\"asset\": \"ETH\", \"amount\": 0.3, \"price\": 1900},\n",
    "    {\"asset\": \"BTC\", \"amount\": 0.005, \"price\": 31000},\n",
    "]\n",
    "```\n",
    "\n",
    "---\n",
    "\n",
    "### 🔍 Wymagania:\n",
    "\n",
    "1. Zlicz łączną ilość kupionego **ETH** i **BTC**.\n",
    "2. Wylicz średnią cenę zakupu każdej waluty:\n",
    "   - cena ważona: `amount * price` dla każdej transakcji,\n",
    "   - podziel sumę `amount * price` przez sumę `amount`.\n",
    "3. Wyświetl wynik w formacie:\n",
    "\n",
    "```\n",
    "ETH:\n",
    "  Ilość: 0.8\n",
    "  Średnia cena zakupu: 1837.5\n",
    "BTC:\n",
    "  Ilość: 0.015\n",
    "  Średnia cena zakupu: 30333.33\n"
   ]
  },
  {
   "cell_type": "code",
   "execution_count": 1,
   "id": "5ecd5652-f431-404d-8ec1-6a9418a6419c",
   "metadata": {},
   "outputs": [
    {
     "name": "stdout",
     "output_type": "stream",
     "text": [
      "ETH:\n",
      "    Ilość: 0.8\n",
      "    Średnia cena zakupu: 1837.50\n",
      "BTC:\n",
      "    Ilość: 0.015\n",
      "    Średnia cena zakupu: 30333.33\n"
     ]
    }
   ],
   "source": [
    "transactions = [\n",
    "    {\"asset\": \"ETH\", \"amount\": 0.5, \"price\": 1800},\n",
    "    {\"asset\": \"BTC\", \"amount\": 0.01, \"price\": 30000},\n",
    "    {\"asset\": \"ETH\", \"amount\": 0.3, \"price\": 1900},\n",
    "    {\"asset\": \"BTC\", \"amount\": 0.005, \"price\": 31000},\n",
    "]\n",
    "\n",
    "def data_filter(data):\n",
    "    summary = {}\n",
    "\n",
    "    for d in data:\n",
    "        asset = d['asset']\n",
    "        amount = d['amount']\n",
    "        price = d['price']\n",
    "        product = amount * price\n",
    "\n",
    "        if asset not in summary:\n",
    "            summary[asset] = {'amount': 0, 'products': []}\n",
    "        \n",
    "        summary[asset]['amount'] += amount\n",
    "        summary[asset]['products'].append(product)\n",
    "\n",
    "    for asset, info in summary.items():\n",
    "        total_amount = info['amount']\n",
    "        total_product = sum(info['products'])\n",
    "        weighted_price = total_product / total_amount\n",
    "\n",
    "        print(f'{asset}:\\n    Ilość: {total_amount}\\n    Średnia cena zakupu: {weighted_price:.2f}')\n",
    "\n",
    "data_filter(transactions)\n"
   ]
  }
 ],
 "metadata": {
  "kernelspec": {
   "display_name": "Python 3 (ipykernel)",
   "language": "python",
   "name": "python3"
  },
  "language_info": {
   "codemirror_mode": {
    "name": "ipython",
    "version": 3
   },
   "file_extension": ".py",
   "mimetype": "text/x-python",
   "name": "python",
   "nbconvert_exporter": "python",
   "pygments_lexer": "ipython3",
   "version": "3.12.7"
  }
 },
 "nbformat": 4,
 "nbformat_minor": 5
}
