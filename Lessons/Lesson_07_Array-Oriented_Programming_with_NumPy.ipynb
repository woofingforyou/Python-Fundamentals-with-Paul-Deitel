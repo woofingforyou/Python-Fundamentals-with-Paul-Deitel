{
 "cells": [
  {
   "cell_type": "code",
   "execution_count": 1,
   "id": "4647d6c8-1475-404c-a9f1-d74d9ac1fe67",
   "metadata": {},
   "outputs": [],
   "source": [
    "import numpy as np\n",
    "import pandas as pd"
   ]
  },
  {
   "cell_type": "markdown",
   "id": "e2a830de-618e-4027-9de1-6fcd0c16b82d",
   "metadata": {},
   "source": [
    "# 7.2 Self Check\n"
   ]
  },
  {
   "cell_type": "markdown",
   "id": "50079685-e9df-4412-b659-3c96febe06e8",
   "metadata": {},
   "source": [
    "### 2. (IPython Session)\n",
    "#### Create a one-dimensional `array` from a list comprehension that produces the even integers from 2 through 20.\n"
   ]
  },
  {
   "cell_type": "code",
   "execution_count": 2,
   "id": "7d0d5880-4b7a-4bdc-9310-d5836d08a591",
   "metadata": {},
   "outputs": [
    {
     "data": {
      "text/plain": [
       "array([ 2,  4,  6,  8, 10, 12, 14, 16, 18, 20])"
      ]
     },
     "execution_count": 2,
     "metadata": {},
     "output_type": "execute_result"
    }
   ],
   "source": [
    "np.array([i for i in range(2,21) if i % 2 == 0])"
   ]
  },
  {
   "cell_type": "markdown",
   "id": "5816a066-30ed-4d85-98f9-86ee9be1dd0a",
   "metadata": {},
   "source": [
    "### 3. (IPython Session)\n",
    "#### Create a 2-by-5 `array` containing the even integers from 2 through 10 in the first row and the odd integers from 1 through 9 in the second row.\n"
   ]
  },
  {
   "cell_type": "code",
   "execution_count": 3,
   "id": "96f07acf-42de-41aa-8a02-9f4b9a10b682",
   "metadata": {},
   "outputs": [],
   "source": [
    "number = np.array([[1,3,5,7,9],[2,4,6,8,10]])"
   ]
  },
  {
   "cell_type": "markdown",
   "id": "b3ac6c57-88db-430e-9a5a-6632d4514f3d",
   "metadata": {},
   "source": [
    "# 7.3 Self Check\n"
   ]
  },
  {
   "cell_type": "markdown",
   "id": "7aca31f6-02ec-4bf0-b13d-d4890d39225a",
   "metadata": {},
   "source": [
    "### 2. (IPython Session)\n",
    "#### For the two-dimensional array in the previous section’s Self Check, display the number of dimensions and shape of the array.\n"
   ]
  },
  {
   "cell_type": "code",
   "execution_count": 4,
   "id": "a8a58ca9-01d1-4eb4-bbfc-bc0a434a57d1",
   "metadata": {},
   "outputs": [],
   "source": [
    "a = np.array([[2, 4, 6, 8, 10], [1, 3, 5, 7, 9]])"
   ]
  },
  {
   "cell_type": "code",
   "execution_count": 5,
   "id": "4e5fb1fe-685a-43de-8866-27550a262cff",
   "metadata": {},
   "outputs": [
    {
     "data": {
      "text/plain": [
       "10"
      ]
     },
     "execution_count": 5,
     "metadata": {},
     "output_type": "execute_result"
    }
   ],
   "source": [
    "a.size"
   ]
  },
  {
   "cell_type": "code",
   "execution_count": 6,
   "id": "dd3598f9-d51c-4c9c-8246-6640e805ad6c",
   "metadata": {},
   "outputs": [
    {
     "data": {
      "text/plain": [
       "(2, 5)"
      ]
     },
     "execution_count": 6,
     "metadata": {},
     "output_type": "execute_result"
    }
   ],
   "source": [
    "a.shape"
   ]
  },
  {
   "cell_type": "code",
   "execution_count": 7,
   "id": "23be1372-c0b9-45ae-ad20-cd08d93aa810",
   "metadata": {},
   "outputs": [
    {
     "data": {
      "text/plain": [
       "2"
      ]
     },
     "execution_count": 7,
     "metadata": {},
     "output_type": "execute_result"
    }
   ],
   "source": [
    "a.ndim"
   ]
  },
  {
   "cell_type": "markdown",
   "id": "f9725d86-8b88-46ea-b5ba-54dbd75db11a",
   "metadata": {},
   "source": [
    "# 7.5 Self Check\n"
   ]
  },
  {
   "cell_type": "markdown",
   "id": "c9dfa6d7-f79e-4b54-aec4-bfcdbd92f1a8",
   "metadata": {},
   "source": [
    "### 2. (IPython Session)\n",
    "#### Use NumPy function `arange` to create an `array` of 20 even integers from 2 through 40,\n",
    "#### then reshape the result into a 4-by-5 `array`.\n"
   ]
  },
  {
   "cell_type": "code",
   "execution_count": 8,
   "id": "95d7e907-897d-42ed-9301-852fb7feb7f5",
   "metadata": {},
   "outputs": [
    {
     "data": {
      "text/plain": [
       "array([[ 2,  4,  6,  8, 10],\n",
       "       [12, 14, 16, 18, 20],\n",
       "       [22, 24, 26, 28, 30],\n",
       "       [32, 34, 36, 38, 40]])"
      ]
     },
     "execution_count": 8,
     "metadata": {},
     "output_type": "execute_result"
    }
   ],
   "source": [
    "np.arange(2,41,2).reshape(4,5)"
   ]
  },
  {
   "cell_type": "markdown",
   "id": "ed15cbd3-5f13-4d0a-9649-f83f0bd70fb9",
   "metadata": {},
   "source": [
    "# 7.6 Self Check\n"
   ]
  },
  {
   "cell_type": "markdown",
   "id": "6ea02f62-149d-4576-9488-e9a80a069f69",
   "metadata": {},
   "source": [
    "### 1. (IPython Session)\n",
    "#### Use `%timeit` to compare the execution time of the following two statements.\n",
    "#### The first uses a list comprehension to create a list of the integers from 0 to 9,999,999\n",
    "#### then totals them with the built-in `sum` function.\n",
    "#### The second statement does the same thing using an `array` and its `sum` method.\n"
   ]
  },
  {
   "cell_type": "code",
   "execution_count": 9,
   "id": "fc4f0487-93c6-4623-8e98-c57ce619d81a",
   "metadata": {},
   "outputs": [
    {
     "name": "stdout",
     "output_type": "stream",
     "text": [
      "3.75 s ± 21.3 ms per loop (mean ± std. dev. of 7 runs, 1 loop each)\n"
     ]
    }
   ],
   "source": [
    "%timeit sum([x for x in range(100_000_000)])"
   ]
  },
  {
   "cell_type": "code",
   "execution_count": 10,
   "id": "e7d28055-8090-4b5a-8a7b-87ba73186f3b",
   "metadata": {},
   "outputs": [
    {
     "name": "stdout",
     "output_type": "stream",
     "text": [
      "205 ms ± 5.88 ms per loop (mean ± std. dev. of 7 runs, 1 loop each)\n"
     ]
    }
   ],
   "source": [
    "%timeit np.arange(100_000_000).sum()"
   ]
  },
  {
   "cell_type": "code",
   "execution_count": 11,
   "id": "d96a07da-cd09-4958-83a4-4969c2eeaa01",
   "metadata": {},
   "outputs": [
    {
     "name": "stdout",
     "output_type": "stream",
     "text": [
      "90.9 ms ± 808 μs per loop (mean ± std. dev. of 7 runs, 10 loops each)\n"
     ]
    }
   ],
   "source": [
    "%timeit np.arange(100_000_000, dtype='int16').sum()"
   ]
  },
  {
   "cell_type": "markdown",
   "id": "88d6b3b5-417c-4d79-bee9-7fba7feb432e",
   "metadata": {},
   "source": [
    "# 7.7 Self Check\n"
   ]
  },
  {
   "cell_type": "markdown",
   "id": "c4800c24-1d67-4d5a-bb99-c5562d198595",
   "metadata": {},
   "source": [
    "### 2. (IPython Session)\n",
    "#### Create an array of the values from 1 through 5 then use broadcasting to square each value.\n"
   ]
  },
  {
   "cell_type": "code",
   "execution_count": 12,
   "id": "8b1ee43c-85ee-4e7a-9459-afcd1bc816ea",
   "metadata": {},
   "outputs": [
    {
     "data": {
      "text/plain": [
       "array([ 1,  4,  9, 16, 25])"
      ]
     },
     "execution_count": 12,
     "metadata": {},
     "output_type": "execute_result"
    }
   ],
   "source": [
    "np.arange(1,6) ** 2"
   ]
  },
  {
   "cell_type": "markdown",
   "id": "d874e19d-926d-4ae1-bd06-cc2e7d203a44",
   "metadata": {},
   "source": [
    "# 7.8 Self Check\n"
   ]
  },
  {
   "cell_type": "markdown",
   "id": "bc2a6604-4dcf-4f49-988b-662d7d25ce6b",
   "metadata": {},
   "source": [
    "### 2. (IPython Session)\n",
    "#### Use NumPy random-number generation to create an array of twelve random grades in the range 60 through 100,\n",
    "#### then reshape the result into a 3-by-4 array.\n",
    "#### Calculate the average of all the grades, the averages of the grades in each column and the averages of the grades in each row.\n"
   ]
  },
  {
   "cell_type": "code",
   "execution_count": 13,
   "id": "643368d9-76fe-4463-a685-4dd2706493be",
   "metadata": {},
   "outputs": [],
   "source": [
    "numbers = np.random.randint(60,101,12).reshape(3,4)"
   ]
  },
  {
   "cell_type": "code",
   "execution_count": 14,
   "id": "c2abefbc-02e9-40bd-a479-5c767710b155",
   "metadata": {},
   "outputs": [
    {
     "data": {
      "text/plain": [
       "np.float64(335.0)"
      ]
     },
     "execution_count": 14,
     "metadata": {},
     "output_type": "execute_result"
    }
   ],
   "source": [
    "numbers.sum()/len(numbers)"
   ]
  },
  {
   "cell_type": "code",
   "execution_count": 15,
   "id": "1f4c1c53-2ab5-4823-a654-1c30122b8eec",
   "metadata": {},
   "outputs": [
    {
     "data": {
      "text/plain": [
       "np.float64(83.75)"
      ]
     },
     "execution_count": 15,
     "metadata": {},
     "output_type": "execute_result"
    }
   ],
   "source": [
    "numbers.mean()"
   ]
  },
  {
   "cell_type": "code",
   "execution_count": 16,
   "id": "2154bcf4-0d86-47ca-9f4e-94317fea15a6",
   "metadata": {},
   "outputs": [
    {
     "data": {
      "text/plain": [
       "array([88.66666667, 70.33333333, 94.        , 82.        ])"
      ]
     },
     "execution_count": 16,
     "metadata": {},
     "output_type": "execute_result"
    }
   ],
   "source": [
    "numbers.mean(axis=0)"
   ]
  },
  {
   "cell_type": "code",
   "execution_count": 17,
   "id": "d43dfae9-1bd6-4b97-aefd-ae233f2b27ee",
   "metadata": {},
   "outputs": [
    {
     "data": {
      "text/plain": [
       "array([89.75, 77.  , 84.5 ])"
      ]
     },
     "execution_count": 17,
     "metadata": {},
     "output_type": "execute_result"
    }
   ],
   "source": [
    "numbers.mean(axis=1)"
   ]
  },
  {
   "cell_type": "markdown",
   "id": "6b6680ed-31d6-4e48-919c-26dea55cb937",
   "metadata": {},
   "source": [
    "# 7.9 Self Check\n"
   ]
  },
  {
   "cell_type": "markdown",
   "id": "a4417459-0342-47c9-a6eb-aede636d0f44",
   "metadata": {},
   "source": [
    "### 2. (IPython Session)\n",
    "#### Create an array of the values from 1 through 5 then use the `power` universal function and broadcasting to cube each value.\n"
   ]
  },
  {
   "cell_type": "code",
   "execution_count": 18,
   "id": "7da3b3a7-ad65-4b77-ba19-155a459b4aee",
   "metadata": {},
   "outputs": [],
   "source": [
    "numbers = np.arange(1,6)"
   ]
  },
  {
   "cell_type": "code",
   "execution_count": 19,
   "id": "7aa2566d-ad53-44ae-93f6-b49db624d8d9",
   "metadata": {},
   "outputs": [
    {
     "data": {
      "text/plain": [
       "array([  1,   8,  27,  64, 125])"
      ]
     },
     "execution_count": 19,
     "metadata": {},
     "output_type": "execute_result"
    }
   ],
   "source": [
    "np.power(numbers, 3)"
   ]
  },
  {
   "cell_type": "markdown",
   "id": "eb134df9-640a-4240-8bb0-f0116dcce61e",
   "metadata": {},
   "source": [
    "# 7.10 Self Check\n"
   ]
  },
  {
   "cell_type": "markdown",
   "id": "973a6c34-13a8-41bc-8f0f-321cda7b09f7",
   "metadata": {},
   "source": [
    "### 1. (IPython Session)\n",
    "#### Given the following array:\n",
    "#### array([[ 1,  2,  3,  4,  5],\n",
    "####        [ 6,  7,  8,  9, 10],\n",
    "####        [11, 12, 13, 14, 15]])\n",
    "\n",
    "#### Write statements to perform the following tasks:\n",
    "#### a. Select the second row.\n",
    "#### b. Select the first and third rows.\n",
    "#### c. Select the middle three columns."
   ]
  },
  {
   "cell_type": "code",
   "execution_count": 20,
   "id": "482d732f-36f5-46a8-bf4f-ce06b52e916c",
   "metadata": {},
   "outputs": [],
   "source": [
    "numbers = np.array([[ 1,  2,  3,  4,  5],\n",
    "                    [ 6,  7,  8,  9, 10],\n",
    "                    [11, 12, 13, 14, 15]])"
   ]
  },
  {
   "cell_type": "code",
   "execution_count": 21,
   "id": "1e2ff5ad-b501-46f5-9086-3601200ed298",
   "metadata": {},
   "outputs": [
    {
     "data": {
      "text/plain": [
       "array([[ 6,  7,  8,  9, 10]])"
      ]
     },
     "execution_count": 21,
     "metadata": {},
     "output_type": "execute_result"
    }
   ],
   "source": [
    "numbers[1:2]"
   ]
  },
  {
   "cell_type": "code",
   "execution_count": 22,
   "id": "853628ae-3a65-42c6-95f0-0ee673890355",
   "metadata": {},
   "outputs": [
    {
     "data": {
      "text/plain": [
       "array([[ 1,  2,  3,  4,  5],\n",
       "       [11, 12, 13, 14, 15]])"
      ]
     },
     "execution_count": 22,
     "metadata": {},
     "output_type": "execute_result"
    }
   ],
   "source": [
    "numbers[[0,2]]"
   ]
  },
  {
   "cell_type": "code",
   "execution_count": 23,
   "id": "7f0a33d0-eb12-44b3-8b83-2fe9f766381d",
   "metadata": {},
   "outputs": [
    {
     "data": {
      "text/plain": [
       "array([[ 2,  3,  4],\n",
       "       [ 7,  8,  9],\n",
       "       [12, 13, 14]])"
      ]
     },
     "execution_count": 23,
     "metadata": {},
     "output_type": "execute_result"
    }
   ],
   "source": [
    "numbers[:,1:4]"
   ]
  },
  {
   "cell_type": "markdown",
   "id": "e23a2219-03a6-4442-87a5-6421ea33051d",
   "metadata": {},
   "source": [
    "# 7.13 Self Check\n",
    "\n",
    "1. *(IPython Session)* Given a 2-by-3 array:\n",
    "\n",
    "```python\n",
    "array([[1, 2, 3],\n",
    "       [4, 5, 6]])\n",
    "```\n",
    "\n",
    "use `hstack` and `vstack` to produce the following array:\n",
    "\n",
    "```python\n",
    "array([[1, 2, 3, 1, 2, 3],\n",
    "       [4, 5, 6, 4, 5, 6],\n",
    "       [1, 2, 3, 1, 2, 3],\n",
    "       [4, 5, 6, 4, 5, 6]])\n",
    "```\n"
   ]
  },
  {
   "cell_type": "code",
   "execution_count": 37,
   "id": "5f3cd92d-f22b-42a7-bc00-81bb600b4d7b",
   "metadata": {},
   "outputs": [],
   "source": [
    "number = np.array([[1, 2, 3],[4, 5, 6]])"
   ]
  },
  {
   "cell_type": "code",
   "execution_count": 38,
   "id": "cae2dbe1-eab9-4a03-b035-137eb64cf5bc",
   "metadata": {},
   "outputs": [
    {
     "data": {
      "text/plain": [
       "array([[1, 2, 3, 1, 2, 3],\n",
       "       [4, 5, 6, 4, 5, 6],\n",
       "       [1, 2, 3, 1, 2, 3],\n",
       "       [4, 5, 6, 4, 5, 6]])"
      ]
     },
     "execution_count": 38,
     "metadata": {},
     "output_type": "execute_result"
    }
   ],
   "source": [
    "# print(number)\n",
    "number = np.hstack([number, number])\n",
    "# print(number)\n",
    "np.vstack([number, number])"
   ]
  },
  {
   "cell_type": "markdown",
   "id": "ff5858a2-9f56-44a2-87da-e74ca9421d47",
   "metadata": {},
   "source": [
    "# 7.14.1 Self Check\n",
    "\n",
    "1. *(IPython Session)* Use the NumPy’s random number generation to create an `array` of five random integers that represent summertime temperatures in the range 60–100, then perform the following tasks:\n",
    "\n",
    "a. Convert the `array` into the `Series` named `temperatures` and display it.\n",
    "\n",
    "b. Determine the lowest, highest and average temperatures.\n",
    "\n",
    "c. Produce descriptive statistics for the `Series`.\n"
   ]
  },
  {
   "cell_type": "code",
   "execution_count": 16,
   "id": "3a465678-b220-435c-94ca-b4b2a64e5989",
   "metadata": {},
   "outputs": [],
   "source": [
    "temperatures = pd.Series(np.random.randint(60,101, 5))"
   ]
  },
  {
   "cell_type": "code",
   "execution_count": 17,
   "id": "c371bc89-f96a-4316-8617-da411ea598dd",
   "metadata": {},
   "outputs": [
    {
     "data": {
      "text/plain": [
       "0    93\n",
       "1    98\n",
       "2    60\n",
       "3    89\n",
       "4    76\n",
       "dtype: int32"
      ]
     },
     "execution_count": 17,
     "metadata": {},
     "output_type": "execute_result"
    }
   ],
   "source": [
    "temperatures"
   ]
  },
  {
   "cell_type": "code",
   "execution_count": 18,
   "id": "5e1d3220-d4f2-491b-9689-399ec84dc1f0",
   "metadata": {},
   "outputs": [
    {
     "data": {
      "text/plain": [
       "np.int32(60)"
      ]
     },
     "execution_count": 18,
     "metadata": {},
     "output_type": "execute_result"
    }
   ],
   "source": [
    "temperatures.min()"
   ]
  },
  {
   "cell_type": "code",
   "execution_count": 19,
   "id": "ed95b39a-576a-4084-bbe2-e58a7bc4d9d2",
   "metadata": {},
   "outputs": [
    {
     "data": {
      "text/plain": [
       "np.int32(98)"
      ]
     },
     "execution_count": 19,
     "metadata": {},
     "output_type": "execute_result"
    }
   ],
   "source": [
    "temperatures.max()"
   ]
  },
  {
   "cell_type": "code",
   "execution_count": 20,
   "id": "a9d1e413-6a76-455e-b9cb-35cdb66372ce",
   "metadata": {},
   "outputs": [
    {
     "data": {
      "text/plain": [
       "np.float64(83.2)"
      ]
     },
     "execution_count": 20,
     "metadata": {},
     "output_type": "execute_result"
    }
   ],
   "source": [
    "temperatures.mean()"
   ]
  },
  {
   "cell_type": "code",
   "execution_count": 21,
   "id": "7ecf1af3-ec0c-4dc2-8a2a-1a35d939caee",
   "metadata": {},
   "outputs": [
    {
     "data": {
      "text/plain": [
       "count     5.000000\n",
       "mean     83.200000\n",
       "std      15.319922\n",
       "min      60.000000\n",
       "25%      76.000000\n",
       "50%      89.000000\n",
       "75%      93.000000\n",
       "max      98.000000\n",
       "dtype: float64"
      ]
     },
     "execution_count": 21,
     "metadata": {},
     "output_type": "execute_result"
    }
   ],
   "source": [
    "temperatures.describe()"
   ]
  },
  {
   "cell_type": "code",
   "execution_count": null,
   "id": "a39b4581-2095-4041-9759-169441c5b960",
   "metadata": {},
   "outputs": [],
   "source": []
  }
 ],
 "metadata": {
  "kernelspec": {
   "display_name": "Python 3 (ipykernel)",
   "language": "python",
   "name": "python3"
  },
  "language_info": {
   "codemirror_mode": {
    "name": "ipython",
    "version": 3
   },
   "file_extension": ".py",
   "mimetype": "text/x-python",
   "name": "python",
   "nbconvert_exporter": "python",
   "pygments_lexer": "ipython3",
   "version": "3.12.7"
  }
 },
 "nbformat": 4,
 "nbformat_minor": 5
}
